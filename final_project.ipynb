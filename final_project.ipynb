{
 "cells": [
  {
   "cell_type": "markdown",
   "metadata": {},
   "source": [
    "# Final Project: Building a daily life assistant with an Instruction-Fine-Tuned GPT-2\n",
    "\n",
    "Paul CASCARINO E5DSIA 2025 - ESIEE PARIS \n",
    "\n",
    "\n",
    "# 0. Introduction\n",
    "\n",
    "I was interested in working on a virtual assistant that could serve as a solid foundation for real-world projects. Therefore, I decided to focus on bots for online websites. I came across the Customer_Support_Training_Dataset_27k dataset on Kaggle: https://www.kaggle.com/datasets/divyanshu2000/customer-support-training-dataset-27k, which includes:\n",
    "\n",
    "- Instructions\n",
    "- Responses\n",
    "- Categories associated with the responses\n",
    "- Actions to take\n",
    "\n",
    "\n",
    "Initially, I thought that in addition to building a basic instruction/response virtual assistant, I could enhance it with a fine-tuned LLM for classification tasks. This way, it could both respond to instructions and meet the requirements of this assignment, while also opening the door for further fine-tuning of the LLM. I could apply what I learned from lab 6.\n",
    "\n",
    "However, I encountered a computer capacity issue throughout this project, which limited the time I could dedicate to this dual project. As a result, I had to focus on just reducing the model training more and more, while waiting for the crash after long computation times...\n"
   ]
  },
  {
   "cell_type": "markdown",
   "metadata": {},
   "source": [
    "# 1. Environment Setup & Base Model Initialization"
   ]
  },
  {
   "cell_type": "markdown",
   "metadata": {},
   "source": [
    "## 1.0 Setup"
   ]
  },
  {
   "cell_type": "code",
   "execution_count": 1,
   "metadata": {
    "_cell_guid": "b1076dfc-b9ad-4769-8c92-a6c4dae69d19",
    "_uuid": "8f2839f25d086af736a60e9eeb907d3b93b6e0e5",
    "execution": {
     "iopub.execute_input": "2025-02-20T17:22:13.629709Z",
     "iopub.status.busy": "2025-02-20T17:22:13.629358Z",
     "iopub.status.idle": "2025-02-20T17:22:13.925137Z",
     "shell.execute_reply": "2025-02-20T17:22:13.923974Z",
     "shell.execute_reply.started": "2025-02-20T17:22:13.629680Z"
    },
    "trusted": true
   },
   "outputs": [],
   "source": [
    "import numpy as np\n",
    "import pandas as pd \n",
    "\n",
    "import seaborn as sns\n",
    "import matplotlib.pyplot as plt\n",
    "\n",
    "\n",
    "import tiktoken\n",
    "\n",
    "import tensorflow as tf\n",
    "import torch\n",
    "from torch.utils.data import Dataset, DataLoader\n",
    "\n",
    "from gpt_download import download_and_load_gpt2\n",
    "from previous_labs import GPTModel, load_weights_into_gpt\n",
    "\n",
    "\n",
    "df = pd.read_csv('Bitext_Sample_Customer_Support_Training_Dataset_27K_responses-v11.csv')\n"
   ]
  },
  {
   "cell_type": "markdown",
   "metadata": {},
   "source": [
    "## 1.1 Loading a pretrained LLM"
   ]
  },
  {
   "cell_type": "markdown",
   "metadata": {},
   "source": [
    "We will use GPT-2 S because for same reason than all this work, my laptop."
   ]
  },
  {
   "cell_type": "code",
   "execution_count": 2,
   "metadata": {
    "execution": {
     "iopub.execute_input": "2025-02-20T17:32:20.748073Z",
     "iopub.status.busy": "2025-02-20T17:32:20.747697Z",
     "iopub.status.idle": "2025-02-20T17:32:20.766757Z",
     "shell.execute_reply": "2025-02-20T17:32:20.765365Z",
     "shell.execute_reply.started": "2025-02-20T17:32:20.748046Z"
    },
    "trusted": true
   },
   "outputs": [
    {
     "name": "stdout",
     "output_type": "stream",
     "text": [
      "File already exists and is up-to-date: gpt2\\124M\\checkpoint\n",
      "File already exists and is up-to-date: gpt2\\124M\\encoder.json\n",
      "File already exists and is up-to-date: gpt2\\124M\\hparams.json\n",
      "File already exists and is up-to-date: gpt2\\124M\\model.ckpt.data-00000-of-00001\n",
      "File already exists and is up-to-date: gpt2\\124M\\model.ckpt.index\n",
      "File already exists and is up-to-date: gpt2\\124M\\model.ckpt.meta\n",
      "File already exists and is up-to-date: gpt2\\124M\\vocab.bpe\n"
     ]
    }
   ],
   "source": [
    "BASE_CONFIG = {\n",
    "    \"vocab_size\": 50257,     # Vocabulary size\n",
    "    \"context_length\": 1024,  # Context length\n",
    "    \"drop_rate\": 0.0,        # Dropout rate\n",
    "    \"qkv_bias\": True         # Query-key-value bias\n",
    "}\n",
    "\n",
    "model_configs = {\n",
    "    \"gpt2-small (124M)\": {\"emb_dim\": 768, \"n_layers\": 12, \"n_heads\": 12},\n",
    "    \"gpt2-medium (355M)\": {\"emb_dim\": 1024, \"n_layers\": 24, \"n_heads\": 16},\n",
    "    \"gpt2-large (774M)\": {\"emb_dim\": 1280, \"n_layers\": 36, \"n_heads\": 20},\n",
    "    \"gpt2-xl (1558M)\": {\"emb_dim\": 1600, \"n_layers\": 48, \"n_heads\": 25},\n",
    "}\n",
    "\n",
    "CHOOSE_MODEL = \"gpt2-small (124M)\"\n",
    "\n",
    "BASE_CONFIG.update(model_configs[CHOOSE_MODEL])\n",
    "\n",
    "model_size = CHOOSE_MODEL.split(\" \")[-1].lstrip(\"(\").rstrip(\")\")\n",
    "settings, params = download_and_load_gpt2(model_size=model_size, models_dir=\"gpt2\")\n",
    "\n",
    "model = GPTModel(BASE_CONFIG)\n",
    "load_weights_into_gpt(model, params)\n",
    "model.eval();"
   ]
  },
  {
   "cell_type": "markdown",
   "metadata": {},
   "source": [
    "# 2. Instruction Dataset Preparation"
   ]
  },
  {
   "cell_type": "markdown",
   "metadata": {},
   "source": [
    "## 2.1 Basic dataset analysis"
   ]
  },
  {
   "cell_type": "markdown",
   "metadata": {},
   "source": [
    "I focus on this part to understand more my dataset and prepare it for my dual project to add a LLM trained for classification of one of the 2 categories that I cite in this part."
   ]
  },
  {
   "cell_type": "code",
   "execution_count": 3,
   "metadata": {
    "execution": {
     "iopub.execute_input": "2025-02-20T17:22:13.926946Z",
     "iopub.status.busy": "2025-02-20T17:22:13.926556Z",
     "iopub.status.idle": "2025-02-20T17:22:13.944427Z",
     "shell.execute_reply": "2025-02-20T17:22:13.943231Z",
     "shell.execute_reply.started": "2025-02-20T17:22:13.926909Z"
    },
    "trusted": true
   },
   "outputs": [
    {
     "data": {
      "text/html": [
       "<div>\n",
       "<style scoped>\n",
       "    .dataframe tbody tr th:only-of-type {\n",
       "        vertical-align: middle;\n",
       "    }\n",
       "\n",
       "    .dataframe tbody tr th {\n",
       "        vertical-align: top;\n",
       "    }\n",
       "\n",
       "    .dataframe thead th {\n",
       "        text-align: right;\n",
       "    }\n",
       "</style>\n",
       "<table border=\"1\" class=\"dataframe\">\n",
       "  <thead>\n",
       "    <tr style=\"text-align: right;\">\n",
       "      <th></th>\n",
       "      <th>instruction</th>\n",
       "      <th>response</th>\n",
       "      <th>category</th>\n",
       "      <th>intent</th>\n",
       "    </tr>\n",
       "  </thead>\n",
       "  <tbody>\n",
       "    <tr>\n",
       "      <th>0</th>\n",
       "      <td>help speaking with a human agent</td>\n",
       "      <td>Thank you for contacting! I certainly recogniz...</td>\n",
       "      <td>CONTACT</td>\n",
       "      <td>contact_human_agent</td>\n",
       "    </tr>\n",
       "    <tr>\n",
       "      <th>1</th>\n",
       "      <td>find information about the removal of my pro a...</td>\n",
       "      <td>Glad you contacted to us to inquire about the ...</td>\n",
       "      <td>ACCOUNT</td>\n",
       "      <td>delete_account</td>\n",
       "    </tr>\n",
       "    <tr>\n",
       "      <th>2</th>\n",
       "      <td>I'm unhzppy with ur work make a reclamation</td>\n",
       "      <td>I'm truly sorry to hear that you're unhappy wi...</td>\n",
       "      <td>FEEDBACK</td>\n",
       "      <td>complaint</td>\n",
       "    </tr>\n",
       "    <tr>\n",
       "      <th>3</th>\n",
       "      <td>switching to pro account</td>\n",
       "      <td>I'm happy to help! I can assist you in seamles...</td>\n",
       "      <td>ACCOUNT</td>\n",
       "      <td>switch_account</td>\n",
       "    </tr>\n",
       "    <tr>\n",
       "      <th>4</th>\n",
       "      <td>reimburse {{Currency Symbol}}{{Refund Amount}}</td>\n",
       "      <td>I've understood, you are seeking a reimburseme...</td>\n",
       "      <td>REFUND</td>\n",
       "      <td>get_refund</td>\n",
       "    </tr>\n",
       "  </tbody>\n",
       "</table>\n",
       "</div>"
      ],
      "text/plain": [
       "                                         instruction  \\\n",
       "0                   help speaking with a human agent   \n",
       "1  find information about the removal of my pro a...   \n",
       "2        I'm unhzppy with ur work make a reclamation   \n",
       "3                           switching to pro account   \n",
       "4     reimburse {{Currency Symbol}}{{Refund Amount}}   \n",
       "\n",
       "                                            response  category  \\\n",
       "0  Thank you for contacting! I certainly recogniz...   CONTACT   \n",
       "1  Glad you contacted to us to inquire about the ...   ACCOUNT   \n",
       "2  I'm truly sorry to hear that you're unhappy wi...  FEEDBACK   \n",
       "3  I'm happy to help! I can assist you in seamles...   ACCOUNT   \n",
       "4  I've understood, you are seeking a reimburseme...    REFUND   \n",
       "\n",
       "                intent  \n",
       "0  contact_human_agent  \n",
       "1       delete_account  \n",
       "2            complaint  \n",
       "3       switch_account  \n",
       "4           get_refund  "
      ]
     },
     "execution_count": 3,
     "metadata": {},
     "output_type": "execute_result"
    }
   ],
   "source": [
    "df = df.drop(columns=['flags'])\n",
    "\n",
    "df = df[['instruction', 'response', 'category', 'intent']]\n",
    "\n",
    "df = df.sample(frac=0.05, random_state=123).reset_index(drop=True)\n",
    "df.head()"
   ]
  },
  {
   "cell_type": "code",
   "execution_count": 4,
   "metadata": {},
   "outputs": [
    {
     "data": {
      "text/html": [
       "<div>\n",
       "<style scoped>\n",
       "    .dataframe tbody tr th:only-of-type {\n",
       "        vertical-align: middle;\n",
       "    }\n",
       "\n",
       "    .dataframe tbody tr th {\n",
       "        vertical-align: top;\n",
       "    }\n",
       "\n",
       "    .dataframe thead th {\n",
       "        text-align: right;\n",
       "    }\n",
       "</style>\n",
       "<table border=\"1\" class=\"dataframe\">\n",
       "  <thead>\n",
       "    <tr style=\"text-align: right;\">\n",
       "      <th></th>\n",
       "      <th>instruction</th>\n",
       "      <th>response</th>\n",
       "      <th>category</th>\n",
       "      <th>intent</th>\n",
       "    </tr>\n",
       "  </thead>\n",
       "  <tbody>\n",
       "    <tr>\n",
       "      <th>0</th>\n",
       "      <td>help speaking with a human agent</td>\n",
       "      <td>Thank you for contacting! I certainly recogniz...</td>\n",
       "      <td>CONTACT</td>\n",
       "      <td>contact_human_agent</td>\n",
       "    </tr>\n",
       "    <tr>\n",
       "      <th>1</th>\n",
       "      <td>find information about the removal of my pro a...</td>\n",
       "      <td>Glad you contacted to us to inquire about the ...</td>\n",
       "      <td>ACCOUNT</td>\n",
       "      <td>delete_account</td>\n",
       "    </tr>\n",
       "    <tr>\n",
       "      <th>2</th>\n",
       "      <td>I'm unhzppy with ur work make a reclamation</td>\n",
       "      <td>I'm truly sorry to hear that you're unhappy wi...</td>\n",
       "      <td>FEEDBACK</td>\n",
       "      <td>complaint</td>\n",
       "    </tr>\n",
       "    <tr>\n",
       "      <th>3</th>\n",
       "      <td>switching to pro account</td>\n",
       "      <td>I'm happy to help! I can assist you in seamles...</td>\n",
       "      <td>ACCOUNT</td>\n",
       "      <td>switch_account</td>\n",
       "    </tr>\n",
       "    <tr>\n",
       "      <th>4</th>\n",
       "      <td>reimburse {{Currency Symbol}}{{Refund Amount}}</td>\n",
       "      <td>I've understood, you are seeking a reimburseme...</td>\n",
       "      <td>REFUND</td>\n",
       "      <td>get_refund</td>\n",
       "    </tr>\n",
       "    <tr>\n",
       "      <th>...</th>\n",
       "      <td>...</td>\n",
       "      <td>...</td>\n",
       "      <td>...</td>\n",
       "      <td>...</td>\n",
       "    </tr>\n",
       "    <tr>\n",
       "      <th>1339</th>\n",
       "      <td>I have got to submit the new shipping address,...</td>\n",
       "      <td>I'm conscious of the reality that you're looki...</td>\n",
       "      <td>SHIPPING</td>\n",
       "      <td>set_up_shipping_address</td>\n",
       "    </tr>\n",
       "    <tr>\n",
       "      <th>1340</th>\n",
       "      <td>i have to locate the invoice #00108</td>\n",
       "      <td>Of course! I understand your need to locate th...</td>\n",
       "      <td>INVOICE</td>\n",
       "      <td>check_invoice</td>\n",
       "    </tr>\n",
       "    <tr>\n",
       "      <th>1341</th>\n",
       "      <td>I have to know if there is anything wrong with...</td>\n",
       "      <td>I understand your need to know if there is any...</td>\n",
       "      <td>REFUND</td>\n",
       "      <td>track_refund</td>\n",
       "    </tr>\n",
       "    <tr>\n",
       "      <th>1342</th>\n",
       "      <td>would it be possible to see what shipping opti...</td>\n",
       "      <td>Thank you for your inquiry about our shipping ...</td>\n",
       "      <td>DELIVERY</td>\n",
       "      <td>delivery_options</td>\n",
       "    </tr>\n",
       "    <tr>\n",
       "      <th>1343</th>\n",
       "      <td>I am trying to check how soon can I expct my p...</td>\n",
       "      <td>We understand your eagerness to know when your...</td>\n",
       "      <td>DELIVERY</td>\n",
       "      <td>delivery_period</td>\n",
       "    </tr>\n",
       "  </tbody>\n",
       "</table>\n",
       "<p>1344 rows × 4 columns</p>\n",
       "</div>"
      ],
      "text/plain": [
       "                                            instruction  \\\n",
       "0                      help speaking with a human agent   \n",
       "1     find information about the removal of my pro a...   \n",
       "2           I'm unhzppy with ur work make a reclamation   \n",
       "3                              switching to pro account   \n",
       "4        reimburse {{Currency Symbol}}{{Refund Amount}}   \n",
       "...                                                 ...   \n",
       "1339  I have got to submit the new shipping address,...   \n",
       "1340                i have to locate the invoice #00108   \n",
       "1341  I have to know if there is anything wrong with...   \n",
       "1342  would it be possible to see what shipping opti...   \n",
       "1343  I am trying to check how soon can I expct my p...   \n",
       "\n",
       "                                               response  category  \\\n",
       "0     Thank you for contacting! I certainly recogniz...   CONTACT   \n",
       "1     Glad you contacted to us to inquire about the ...   ACCOUNT   \n",
       "2     I'm truly sorry to hear that you're unhappy wi...  FEEDBACK   \n",
       "3     I'm happy to help! I can assist you in seamles...   ACCOUNT   \n",
       "4     I've understood, you are seeking a reimburseme...    REFUND   \n",
       "...                                                 ...       ...   \n",
       "1339  I'm conscious of the reality that you're looki...  SHIPPING   \n",
       "1340  Of course! I understand your need to locate th...   INVOICE   \n",
       "1341  I understand your need to know if there is any...    REFUND   \n",
       "1342  Thank you for your inquiry about our shipping ...  DELIVERY   \n",
       "1343  We understand your eagerness to know when your...  DELIVERY   \n",
       "\n",
       "                       intent  \n",
       "0         contact_human_agent  \n",
       "1              delete_account  \n",
       "2                   complaint  \n",
       "3              switch_account  \n",
       "4                  get_refund  \n",
       "...                       ...  \n",
       "1339  set_up_shipping_address  \n",
       "1340            check_invoice  \n",
       "1341             track_refund  \n",
       "1342         delivery_options  \n",
       "1343          delivery_period  \n",
       "\n",
       "[1344 rows x 4 columns]"
      ]
     },
     "execution_count": 4,
     "metadata": {},
     "output_type": "execute_result"
    }
   ],
   "source": [
    "df"
   ]
  },
  {
   "cell_type": "code",
   "execution_count": 5,
   "metadata": {
    "execution": {
     "iopub.execute_input": "2025-02-20T17:22:13.946883Z",
     "iopub.status.busy": "2025-02-20T17:22:13.946543Z",
     "iopub.status.idle": "2025-02-20T17:22:14.167833Z",
     "shell.execute_reply": "2025-02-20T17:22:14.166742Z",
     "shell.execute_reply.started": "2025-02-20T17:22:13.946845Z"
    },
    "trusted": true
   },
   "outputs": [
    {
     "name": "stdout",
     "output_type": "stream",
     "text": [
      "Number of null values for instructions: 0\n"
     ]
    },
    {
     "data": {
      "image/png": "[encoded data removed]",
      "text/plain": [
       "<Figure size 640x480 with 1 Axes>"
      ]
     },
     "metadata": {},
     "output_type": "display_data"
    }
   ],
   "source": [
    "# Count non-null values\n",
    "print(f\"Number of null values for instructions: {df['instruction'].isnull().sum()}\")\n",
    "\n",
    "# Add a new column for text length\n",
    "df['instruction_length'] = df['instruction'].str.len()\n",
    "\n",
    "df['instruction_length'].plot(kind='hist', bins=20, title='Distribution of Instruction Lengths')\n",
    "plt.xlabel('Text Length')\n",
    "plt.ylabel('Frequency')\n",
    "plt.show()\n"
   ]
  },
  {
   "cell_type": "code",
   "execution_count": 6,
   "metadata": {
    "execution": {
     "iopub.execute_input": "2025-02-20T17:22:14.169628Z",
     "iopub.status.busy": "2025-02-20T17:22:14.169346Z",
     "iopub.status.idle": "2025-02-20T17:22:14.414874Z",
     "shell.execute_reply": "2025-02-20T17:22:14.413730Z",
     "shell.execute_reply.started": "2025-02-20T17:22:14.169604Z"
    },
    "trusted": true
   },
   "outputs": [
    {
     "name": "stdout",
     "output_type": "stream",
     "text": [
      "Number of null values for response: 0\n"
     ]
    },
    {
     "data": {
      "image/png": "[encoded data removed]",
      "text/plain": [
       "<Figure size 640x480 with 1 Axes>"
      ]
     },
     "metadata": {},
     "output_type": "display_data"
    }
   ],
   "source": [
    "# Count non-null values\n",
    "print(f\"Number of null values for response: {df['response'].isnull().sum()}\")\n",
    "\n",
    "# Add a new column for text length\n",
    "df['response_length'] = df['response'].str.len()\n",
    "\n",
    "df['response_length'].plot(kind='hist', bins=20, title='Distribution of Response Lengths')\n",
    "plt.xlabel('Text Length')\n",
    "plt.ylabel('Frequency')\n",
    "plt.show()"
   ]
  },
  {
   "cell_type": "markdown",
   "metadata": {},
   "source": [
    "We can see that there are no NA or NULL values for our instruction and response values, which is a positive aspect.\n",
    "\n",
    "The count plot representing the length of the instruction and response values demonstrates that there are none, or very few, excessively long messages.\n",
    "\n",
    "The dataset is tidy!"
   ]
  },
  {
   "cell_type": "markdown",
   "metadata": {},
   "source": [
    "## 2.2 Dataset analysis for bonus\n",
    "\n",
    "We will look categorical columns : \n",
    "\n",
    "- category\n",
    "- intent\n",
    "\n",
    "to permit our method to response to our customer AND treat the demand automatically\n",
    "\n"
   ]
  },
  {
   "cell_type": "code",
   "execution_count": 7,
   "metadata": {
    "execution": {
     "iopub.execute_input": "2025-02-20T17:22:14.416479Z",
     "iopub.status.busy": "2025-02-20T17:22:14.416084Z",
     "iopub.status.idle": "2025-02-20T17:22:14.664633Z",
     "shell.execute_reply": "2025-02-20T17:22:14.663529Z",
     "shell.execute_reply.started": "2025-02-20T17:22:14.416438Z"
    },
    "trusted": true
   },
   "outputs": [
    {
     "data": {
      "image/png": "[encoded data removed]",
      "text/plain": [
       "<Figure size 640x480 with 1 Axes>"
      ]
     },
     "metadata": {},
     "output_type": "display_data"
    }
   ],
   "source": [
    "sns.countplot(data=df, x='category')\n",
    "plt.title('Distribution of Categories for clasification')\n",
    "plt.xticks(rotation=45) \n",
    "plt.show()"
   ]
  },
  {
   "cell_type": "markdown",
   "metadata": {},
   "source": [
    "We can see that the repartition of different categories is unbalanced. I think the most important things is not the category of the demand but the action to do. We have them with the column *intent*"
   ]
  },
  {
   "cell_type": "code",
   "execution_count": 8,
   "metadata": {
    "execution": {
     "iopub.execute_input": "2025-02-20T17:22:14.665907Z",
     "iopub.status.busy": "2025-02-20T17:22:14.665622Z",
     "iopub.status.idle": "2025-02-20T17:22:15.263614Z",
     "shell.execute_reply": "2025-02-20T17:22:15.262496Z",
     "shell.execute_reply.started": "2025-02-20T17:22:14.665883Z"
    },
    "trusted": true
   },
   "outputs": [
    {
     "data": {
      "image/png": "[encoded data removed]",
      "text/plain": [
       "<Figure size 640x480 with 1 Axes>"
      ]
     },
     "metadata": {},
     "output_type": "display_data"
    }
   ],
   "source": [
    "sns.countplot(data=df, x='intent')\n",
    "plt.title('Distribution of intent for clasification')\n",
    "plt.xticks(rotation=45) \n",
    "plt.show()"
   ]
  },
  {
   "cell_type": "markdown",
   "metadata": {},
   "source": [
    "We can see that the distribution of different categories is balanced! Therefore, we do not need to use the function created in Lab 6: create_balanced_dataset for our bonus.\n",
    "\n",
    "Unfortunately, as I said before, I will not work on that but I let that to show that I tried. If it will works i will choose to a LLM trained for classify the intent, the uniform categorical. An idea is to map teh categorie into numbers (below)"
   ]
  },
  {
   "cell_type": "markdown",
   "metadata": {},
   "source": [
    "## 2.3 Dataset preparation"
   ]
  },
  {
   "cell_type": "code",
   "execution_count": 9,
   "metadata": {
    "execution": {
     "iopub.execute_input": "2025-02-20T17:22:15.264724Z",
     "iopub.status.busy": "2025-02-20T17:22:15.264458Z",
     "iopub.status.idle": "2025-02-20T17:22:15.282919Z",
     "shell.execute_reply": "2025-02-20T17:22:15.281829Z",
     "shell.execute_reply.started": "2025-02-20T17:22:15.264700Z"
    },
    "trusted": true
   },
   "outputs": [
    {
     "data": {
      "text/html": [
       "<div>\n",
       "<style scoped>\n",
       "    .dataframe tbody tr th:only-of-type {\n",
       "        vertical-align: middle;\n",
       "    }\n",
       "\n",
       "    .dataframe tbody tr th {\n",
       "        vertical-align: top;\n",
       "    }\n",
       "\n",
       "    .dataframe thead th {\n",
       "        text-align: right;\n",
       "    }\n",
       "</style>\n",
       "<table border=\"1\" class=\"dataframe\">\n",
       "  <thead>\n",
       "    <tr style=\"text-align: right;\">\n",
       "      <th></th>\n",
       "      <th>instruction</th>\n",
       "      <th>response</th>\n",
       "      <th>intent</th>\n",
       "      <th>intent_mapped</th>\n",
       "    </tr>\n",
       "  </thead>\n",
       "  <tbody>\n",
       "    <tr>\n",
       "      <th>0</th>\n",
       "      <td>help speaking with a human agent</td>\n",
       "      <td>Thank you for contacting! I certainly recogniz...</td>\n",
       "      <td>contact_human_agent</td>\n",
       "      <td>9</td>\n",
       "    </tr>\n",
       "    <tr>\n",
       "      <th>1</th>\n",
       "      <td>find information about the removal of my pro a...</td>\n",
       "      <td>Glad you contacted to us to inquire about the ...</td>\n",
       "      <td>delete_account</td>\n",
       "      <td>11</td>\n",
       "    </tr>\n",
       "    <tr>\n",
       "      <th>2</th>\n",
       "      <td>I'm unhzppy with ur work make a reclamation</td>\n",
       "      <td>I'm truly sorry to hear that you're unhappy wi...</td>\n",
       "      <td>complaint</td>\n",
       "      <td>7</td>\n",
       "    </tr>\n",
       "    <tr>\n",
       "      <th>3</th>\n",
       "      <td>switching to pro account</td>\n",
       "      <td>I'm happy to help! I can assist you in seamles...</td>\n",
       "      <td>switch_account</td>\n",
       "      <td>24</td>\n",
       "    </tr>\n",
       "    <tr>\n",
       "      <th>4</th>\n",
       "      <td>reimburse {{Currency Symbol}}{{Refund Amount}}</td>\n",
       "      <td>I've understood, you are seeking a reimburseme...</td>\n",
       "      <td>get_refund</td>\n",
       "      <td>16</td>\n",
       "    </tr>\n",
       "  </tbody>\n",
       "</table>\n",
       "</div>"
      ],
      "text/plain": [
       "                                         instruction  \\\n",
       "0                   help speaking with a human agent   \n",
       "1  find information about the removal of my pro a...   \n",
       "2        I'm unhzppy with ur work make a reclamation   \n",
       "3                           switching to pro account   \n",
       "4     reimburse {{Currency Symbol}}{{Refund Amount}}   \n",
       "\n",
       "                                            response               intent  \\\n",
       "0  Thank you for contacting! I certainly recogniz...  contact_human_agent   \n",
       "1  Glad you contacted to us to inquire about the ...       delete_account   \n",
       "2  I'm truly sorry to hear that you're unhappy wi...            complaint   \n",
       "3  I'm happy to help! I can assist you in seamles...       switch_account   \n",
       "4  I've understood, you are seeking a reimburseme...           get_refund   \n",
       "\n",
       "   intent_mapped  \n",
       "0              9  \n",
       "1             11  \n",
       "2              7  \n",
       "3             24  \n",
       "4             16  "
      ]
     },
     "execution_count": 9,
     "metadata": {},
     "output_type": "execute_result"
    }
   ],
   "source": [
    "df = df.drop(columns=['category', 'instruction_length',\t'response_length'])\n",
    "\n",
    "\n",
    "df['intent_mapped'] = pd.Categorical(df['intent']).codes\n",
    "\n",
    "\n",
    "df.head()"
   ]
  },
  {
   "cell_type": "markdown",
   "metadata": {},
   "source": [
    "### 2.3.1 train/test/val\n",
    "Let's now define a function that randomly divides the dataset into training, validation, and test subsets.\n",
    "We will split in train/test/val with 70%/20%/10%"
   ]
  },
  {
   "cell_type": "code",
   "execution_count": 10,
   "metadata": {
    "execution": {
     "iopub.execute_input": "2025-02-20T17:22:15.285844Z",
     "iopub.status.busy": "2025-02-20T17:22:15.285563Z",
     "iopub.status.idle": "2025-02-20T17:22:15.305656Z",
     "shell.execute_reply": "2025-02-20T17:22:15.304459Z",
     "shell.execute_reply.started": "2025-02-20T17:22:15.285822Z"
    },
    "trusted": true
   },
   "outputs": [],
   "source": [
    "def random_split(df, train_frac, validation_frac):\n",
    "    # Shuffle the entire DataFrame\n",
    "    df = df.sample(frac=1, random_state=123).reset_index(drop=True)\n",
    "\n",
    "    # Calculate split indices\n",
    "    train_end = int(len(df) * train_frac)\n",
    "    validation_end = train_end + int(len(df) * validation_frac)\n",
    "\n",
    "    # Split the DataFrame\n",
    "    train_df = df[:train_end]\n",
    "    validation_df = df[train_end:validation_end]\n",
    "    test_df = df[validation_end:]\n",
    "\n",
    "    return train_df, validation_df, test_df\n",
    "\n",
    "train_df, validation_df, test_df = random_split(df, 0.7, 0.1)\n",
    "\n",
    "# train_df.to_csv(\"train.csv\", index=None)\n",
    "# validation_df.to_csv(\"validation.csv\", index=None)\n",
    "# test_df.to_csv(\"test.csv\", index=None)"
   ]
  },
  {
   "cell_type": "markdown",
   "metadata": {},
   "source": [
    "### 2.3.2 - Alpaca-style \n",
    "We use Alpaca-style prompt formatting, which was the original prompt template for instruction finetuning.\n",
    "\n",
    "We will formating directly using our dataframe"
   ]
  },
  {
   "cell_type": "code",
   "execution_count": 11,
   "metadata": {
    "execution": {
     "iopub.execute_input": "2025-02-20T17:26:19.707769Z",
     "iopub.status.busy": "2025-02-20T17:26:19.707423Z",
     "iopub.status.idle": "2025-02-20T17:26:21.144857Z",
     "shell.execute_reply": "2025-02-20T17:26:21.143615Z",
     "shell.execute_reply.started": "2025-02-20T17:26:19.707743Z"
    },
    "trusted": true
   },
   "outputs": [
    {
     "name": "stdout",
     "output_type": "stream",
     "text": [
      "Training set length: 940\n",
      "Validation set length: 134\n",
      "Test set length: 270\n"
     ]
    }
   ],
   "source": [
    "def df_to_data(df):\n",
    "    # Initialize the list that will store the resulting dictionaries\n",
    "    result = []\n",
    "\n",
    "    # Iterate over each row in the dataframe\n",
    "    for _, row in df.iterrows():\n",
    "        # Create a dictionary for each row, formatted as required\n",
    "        result.append({\n",
    "            'instruction': f'Write a response to the following: {row[\"instruction\"]}',\n",
    "            'input': row['response'],\n",
    "            'output': f'The response for this instruction is: {row[\"response\"]}'\n",
    "        })\n",
    "    \n",
    "    return result\n",
    "\n",
    "\n",
    "train_data = df_to_data(train_df)\n",
    "val_data = df_to_data(validation_df)\n",
    "test_data = df_to_data(test_df)\n",
    "\n",
    "print(\"Training set length:\", len(train_data))\n",
    "print(\"Validation set length:\", len(val_data))\n",
    "print(\"Test set length:\", len(test_data))"
   ]
  },
  {
   "cell_type": "markdown",
   "metadata": {},
   "source": [
    "### 2.3.3 - Organizing data into training batches"
   ]
  },
  {
   "cell_type": "markdown",
   "metadata": {},
   "source": [
    "We create an *InstructionDataset* class that pre-tokens all the inputs in the dataset."
   ]
  },
  {
   "cell_type": "code",
   "execution_count": 12,
   "metadata": {
    "execution": {
     "iopub.execute_input": "2025-02-20T17:27:15.873287Z",
     "iopub.status.busy": "2025-02-20T17:27:15.872903Z",
     "iopub.status.idle": "2025-02-20T17:27:15.879190Z",
     "shell.execute_reply": "2025-02-20T17:27:15.878033Z",
     "shell.execute_reply.started": "2025-02-20T17:27:15.873260Z"
    },
    "trusted": true
   },
   "outputs": [
    {
     "name": "stdout",
     "output_type": "stream",
     "text": [
      "Below is an instruction that describes a task. Write a response that appropriately completes the request.\n",
      "\n",
      "### Instruction:\n",
      "find information about the removal of my pro account\n",
      "\n",
      "### Response:\n",
      "Glad you contacted to us to inquire about the removal of your {{Account Type}} account. We understand that you may have questions and concerns regarding the cancellation process, and we're here to assist you. To find detailed information about removing your {{Account Type}} account, I recommend visiting our website and navigating to the account settings or FAQ section. If you need specific assistance or have further questions, please don't hesitate to let us know. We're committed to ensuring a seamless experience for you throughout the entire account removal process.\n"
     ]
    }
   ],
   "source": [
    "def format_input(entry):\n",
    "    instruction_text = (\n",
    "        f\"Below is an instruction that describes a task. \"\n",
    "        f\"Write a response that appropriately completes the request.\"\n",
    "        f\"\\n\\n### Instruction:\\n{entry['instruction']}\"\n",
    "    )\n",
    "\n",
    "    input_text = f\"\\n\\n### Input:\\n{entry['input']}\" if 'input' in entry and entry[\"input\"] else \"\"\n",
    "\n",
    "    return instruction_text + input_text\n",
    "\n",
    "model_input = format_input(df.iloc[1])\n",
    "desired_response = f\"\\n\\n### Response:\\n{df['response'][1]}\"\n",
    "\n",
    "print(model_input + desired_response)\n",
    "\n",
    "\n",
    "class InstructionDataset(Dataset):\n",
    "    def __init__(self, data, tokenizer):\n",
    "        self.data = data\n",
    "\n",
    "        # Pre-tokenize texts\n",
    "        self.encoded_texts = []\n",
    "        for entry in data:\n",
    "            instruction_plus_input = format_input(entry)\n",
    "            response_text = f\"\\n\\n### Response:\\n{entry['output']}\"\n",
    "            full_text = instruction_plus_input + response_text\n",
    "            self.encoded_texts.append(\n",
    "                tokenizer.encode(full_text)\n",
    "            )\n",
    "\n",
    "    def __getitem__(self, index):\n",
    "        return self.encoded_texts[index]\n",
    "\n",
    "    def __len__(self):\n",
    "        return len(self.data)\n"
   ]
  },
  {
   "cell_type": "markdown",
   "metadata": {},
   "source": [
    "Instead of manually padding all examples in the dataset, we create a custom \"collate\" function. This function is passed to the data loader and automatically handles padding within each batch. It ensures that the examples in each batch have the same length, but batches themselves can have different lengths. This approach is more flexible and efficient, especially when working with varying input sizes.\n",
    "\n",
    "The custom collate_fn function enhances the padding process by handling it dynamically for each batch. It first determines the longest sequence in the batch, then pads all sequences to match this length by adding a padding token (pad_token_id). The function also creates two tensors, one for inputs and another for targets: the inputs are truncated by one token, while the targets are shifted by one token to the right. Additionally, it introduces two new features:\n",
    "\n",
    "- It replaces padding tokens in the targets (except for the first one) with ignore_index to avoid loss in padding areas.\n",
    "  \n",
    "- It allows truncation to a maximum sequence length (allowed_max_length) if specified.\n",
    "  \n",
    "This method ensures that each batch has padded sequences of equal length, while still allowing different batches to have varying lengths and providing additional control over the padding and truncation behavior."
   ]
  },
  {
   "cell_type": "code",
   "execution_count": 13,
   "metadata": {
    "execution": {
     "iopub.execute_input": "2025-02-20T17:28:36.161728Z",
     "iopub.status.busy": "2025-02-20T17:28:36.161388Z",
     "iopub.status.idle": "2025-02-20T17:28:36.170134Z",
     "shell.execute_reply": "2025-02-20T17:28:36.169181Z",
     "shell.execute_reply.started": "2025-02-20T17:28:36.161703Z"
    },
    "trusted": true
   },
   "outputs": [
    {
     "name": "stdout",
     "output_type": "stream",
     "text": [
      "[50256]\n"
     ]
    }
   ],
   "source": [
    "tokenizer = tiktoken.get_encoding(\"gpt2\")\n",
    "\n",
    "print(tokenizer.encode(\"<|endoftext|>\", allowed_special={\"<|endoftext|>\"}))\n",
    "\n",
    "\n",
    "\n",
    "def customized_collate_fn(\n",
    "    batch,\n",
    "    pad_token_id=50256,\n",
    "    ignore_index=-100,\n",
    "    allowed_max_length=None,\n",
    "    device=\"cpu\"\n",
    "):\n",
    "    # Find the longest sequence in the batch\n",
    "    batch_max_length = max(len(item)+1 for item in batch)\n",
    "\n",
    "    # Pad and prepare inputs and targets\n",
    "    inputs_lst, targets_lst = [], []\n",
    "\n",
    "    for item in batch:\n",
    "        new_item = item.copy()\n",
    "        # Add an <|endoftext|> token\n",
    "        new_item += [pad_token_id]\n",
    "        # Pad sequences to max_length\n",
    "        padded = new_item + [pad_token_id] * (batch_max_length - len(new_item))\n",
    "        inputs = torch.tensor(padded[:-1])  # Truncate the last token for inputs\n",
    "        targets = torch.tensor(padded[1:])  # Shift +1 to the right for targets\n",
    "\n",
    "        # New: Replace all but the first padding tokens in targets by ignore_index\n",
    "        mask = targets == pad_token_id\n",
    "        indices = torch.nonzero(mask).squeeze()\n",
    "        if indices.numel() > 1:\n",
    "            targets[indices[1:]] = ignore_index\n",
    "\n",
    "        # New: Optionally truncate to maximum sequence length\n",
    "        if allowed_max_length is not None:\n",
    "            inputs = inputs[:allowed_max_length]\n",
    "            targets = targets[:allowed_max_length]\n",
    "\n",
    "        inputs_lst.append(inputs)\n",
    "        targets_lst.append(targets)\n",
    "\n",
    "    # Convert list of inputs and targets to tensors and transfer to target device\n",
    "    inputs_tensor = torch.stack(inputs_lst).to(device)\n",
    "    targets_tensor = torch.stack(targets_lst).to(device)\n",
    "\n",
    "    return inputs_tensor, targets_tensor\n",
    "\n"
   ]
  },
  {
   "cell_type": "markdown",
   "metadata": {},
   "source": [
    "Another Idea but I can't compute it for same reason is to add a special tokens for the values found in our dataframe : \n",
    "\n",
    "- {{Currency Symbol}}\n",
    "- {{Refund Amount}}\n",
    "- ...\n",
    "\n",
    "The amount is not important but this is one point I would like to focus if..."
   ]
  },
  {
   "cell_type": "markdown",
   "metadata": {},
   "source": [
    "### 2.3.4 - Creating data loaders for an instruction dataset"
   ]
  },
  {
   "cell_type": "code",
   "execution_count": 14,
   "metadata": {
    "execution": {
     "iopub.execute_input": "2025-02-20T17:30:07.779273Z",
     "iopub.status.busy": "2025-02-20T17:30:07.778884Z",
     "iopub.status.idle": "2025-02-20T17:30:12.482955Z",
     "shell.execute_reply": "2025-02-20T17:30:12.482072Z",
     "shell.execute_reply.started": "2025-02-20T17:30:07.779242Z"
    },
    "trusted": true
   },
   "outputs": [],
   "source": [
    "num_workers = 0\n",
    "batch_size = 5\n",
    "\n",
    "torch.manual_seed(123)\n",
    "\n",
    "train_dataset = InstructionDataset(train_data, tokenizer)\n",
    "train_loader = DataLoader(\n",
    "    train_dataset,\n",
    "    batch_size=batch_size,\n",
    "    collate_fn=customized_collate_fn,\n",
    "    shuffle=True,\n",
    "    drop_last=True,\n",
    "    num_workers=num_workers\n",
    ")\n",
    "\n",
    "val_dataset = InstructionDataset(val_data, tokenizer)\n",
    "val_loader = DataLoader(\n",
    "    val_dataset,\n",
    "    batch_size=batch_size,\n",
    "    collate_fn=customized_collate_fn,\n",
    "    shuffle=False,\n",
    "    drop_last=False,\n",
    "    num_workers=num_workers\n",
    ")\n",
    "\n",
    "test_dataset = InstructionDataset(test_data, tokenizer)\n",
    "test_loader = DataLoader(\n",
    "    test_dataset,\n",
    "    batch_size=batch_size,\n",
    "    collate_fn=customized_collate_fn,\n",
    "    shuffle=False,\n",
    "    drop_last=False,\n",
    "    num_workers=num_workers\n",
    ")"
   ]
  },
  {
   "cell_type": "code",
   "execution_count": 15,
   "metadata": {},
   "outputs": [
    {
     "name": "stdout",
     "output_type": "stream",
     "text": [
      "Train loader:\n",
      "torch.Size([5, 444]) torch.Size([5, 444])\n",
      "torch.Size([5, 512]) torch.Size([5, 512])\n",
      "torch.Size([5, 439]) torch.Size([5, 439])\n",
      "torch.Size([5, 452]) torch.Size([5, 452])\n",
      "torch.Size([5, 477]) torch.Size([5, 477])\n",
      "torch.Size([5, 835]) torch.Size([5, 835])\n",
      "torch.Size([5, 320]) torch.Size([5, 320])\n",
      "torch.Size([5, 581]) torch.Size([5, 581])\n",
      "torch.Size([5, 316]) torch.Size([5, 316])\n",
      "torch.Size([5, 767]) torch.Size([5, 767])\n",
      "torch.Size([5, 392]) torch.Size([5, 392])\n",
      "torch.Size([5, 549]) torch.Size([5, 549])\n",
      "torch.Size([5, 835]) torch.Size([5, 835])\n",
      "torch.Size([5, 802]) torch.Size([5, 802])\n",
      "torch.Size([5, 502]) torch.Size([5, 502])\n",
      "torch.Size([5, 330]) torch.Size([5, 330])\n",
      "torch.Size([5, 368]) torch.Size([5, 368])\n",
      "torch.Size([5, 694]) torch.Size([5, 694])\n",
      "torch.Size([5, 764]) torch.Size([5, 764])\n",
      "torch.Size([5, 494]) torch.Size([5, 494])\n",
      "torch.Size([5, 472]) torch.Size([5, 472])\n",
      "torch.Size([5, 430]) torch.Size([5, 430])\n",
      "torch.Size([5, 372]) torch.Size([5, 372])\n",
      "torch.Size([5, 795]) torch.Size([5, 795])\n",
      "torch.Size([5, 303]) torch.Size([5, 303])\n",
      "torch.Size([5, 614]) torch.Size([5, 614])\n",
      "torch.Size([5, 258]) torch.Size([5, 258])\n",
      "torch.Size([5, 608]) torch.Size([5, 608])\n",
      "torch.Size([5, 376]) torch.Size([5, 376])\n",
      "torch.Size([5, 675]) torch.Size([5, 675])\n",
      "torch.Size([5, 397]) torch.Size([5, 397])\n",
      "torch.Size([5, 672]) torch.Size([5, 672])\n",
      "torch.Size([5, 394]) torch.Size([5, 394])\n",
      "torch.Size([5, 854]) torch.Size([5, 854])\n",
      "torch.Size([5, 627]) torch.Size([5, 627])\n",
      "torch.Size([5, 498]) torch.Size([5, 498])\n",
      "torch.Size([5, 411]) torch.Size([5, 411])\n",
      "torch.Size([5, 423]) torch.Size([5, 423])\n",
      "torch.Size([5, 299]) torch.Size([5, 299])\n",
      "torch.Size([5, 730]) torch.Size([5, 730])\n",
      "torch.Size([5, 827]) torch.Size([5, 827])\n",
      "torch.Size([5, 766]) torch.Size([5, 766])\n",
      "torch.Size([5, 578]) torch.Size([5, 578])\n",
      "torch.Size([5, 476]) torch.Size([5, 476])\n",
      "torch.Size([5, 604]) torch.Size([5, 604])\n",
      "torch.Size([5, 582]) torch.Size([5, 582])\n",
      "torch.Size([5, 271]) torch.Size([5, 271])\n",
      "torch.Size([5, 411]) torch.Size([5, 411])\n",
      "torch.Size([5, 455]) torch.Size([5, 455])\n",
      "torch.Size([5, 478]) torch.Size([5, 478])\n",
      "torch.Size([5, 382]) torch.Size([5, 382])\n",
      "torch.Size([5, 557]) torch.Size([5, 557])\n",
      "torch.Size([5, 608]) torch.Size([5, 608])\n",
      "torch.Size([5, 438]) torch.Size([5, 438])\n",
      "torch.Size([5, 792]) torch.Size([5, 792])\n",
      "torch.Size([5, 414]) torch.Size([5, 414])\n",
      "torch.Size([5, 487]) torch.Size([5, 487])\n",
      "torch.Size([5, 650]) torch.Size([5, 650])\n",
      "torch.Size([5, 437]) torch.Size([5, 437])\n",
      "torch.Size([5, 636]) torch.Size([5, 636])\n",
      "torch.Size([5, 441]) torch.Size([5, 441])\n",
      "torch.Size([5, 472]) torch.Size([5, 472])\n",
      "torch.Size([5, 478]) torch.Size([5, 478])\n",
      "torch.Size([5, 497]) torch.Size([5, 497])\n",
      "torch.Size([5, 464]) torch.Size([5, 464])\n",
      "torch.Size([5, 282]) torch.Size([5, 282])\n",
      "torch.Size([5, 454]) torch.Size([5, 454])\n",
      "torch.Size([5, 649]) torch.Size([5, 649])\n",
      "torch.Size([5, 614]) torch.Size([5, 614])\n",
      "torch.Size([5, 728]) torch.Size([5, 728])\n",
      "torch.Size([5, 466]) torch.Size([5, 466])\n",
      "torch.Size([5, 551]) torch.Size([5, 551])\n",
      "torch.Size([5, 262]) torch.Size([5, 262])\n",
      "torch.Size([5, 312]) torch.Size([5, 312])\n",
      "torch.Size([5, 533]) torch.Size([5, 533])\n",
      "torch.Size([5, 796]) torch.Size([5, 796])\n",
      "torch.Size([5, 300]) torch.Size([5, 300])\n",
      "torch.Size([5, 458]) torch.Size([5, 458])\n",
      "torch.Size([5, 572]) torch.Size([5, 572])\n",
      "torch.Size([5, 374]) torch.Size([5, 374])\n",
      "torch.Size([5, 899]) torch.Size([5, 899])\n",
      "torch.Size([5, 308]) torch.Size([5, 308])\n",
      "torch.Size([5, 817]) torch.Size([5, 817])\n",
      "torch.Size([5, 709]) torch.Size([5, 709])\n",
      "torch.Size([5, 486]) torch.Size([5, 486])\n",
      "torch.Size([5, 387]) torch.Size([5, 387])\n",
      "torch.Size([5, 511]) torch.Size([5, 511])\n",
      "torch.Size([5, 289]) torch.Size([5, 289])\n",
      "torch.Size([5, 412]) torch.Size([5, 412])\n",
      "torch.Size([5, 418]) torch.Size([5, 418])\n",
      "torch.Size([5, 842]) torch.Size([5, 842])\n",
      "torch.Size([5, 446]) torch.Size([5, 446])\n",
      "torch.Size([5, 540]) torch.Size([5, 540])\n",
      "torch.Size([5, 365]) torch.Size([5, 365])\n",
      "torch.Size([5, 553]) torch.Size([5, 553])\n",
      "torch.Size([5, 346]) torch.Size([5, 346])\n",
      "torch.Size([5, 395]) torch.Size([5, 395])\n",
      "torch.Size([5, 599]) torch.Size([5, 599])\n",
      "torch.Size([5, 638]) torch.Size([5, 638])\n",
      "torch.Size([5, 347]) torch.Size([5, 347])\n",
      "torch.Size([5, 315]) torch.Size([5, 315])\n",
      "torch.Size([5, 463]) torch.Size([5, 463])\n",
      "torch.Size([5, 421]) torch.Size([5, 421])\n",
      "torch.Size([5, 369]) torch.Size([5, 369])\n",
      "torch.Size([5, 585]) torch.Size([5, 585])\n",
      "torch.Size([5, 515]) torch.Size([5, 515])\n",
      "torch.Size([5, 786]) torch.Size([5, 786])\n",
      "torch.Size([5, 462]) torch.Size([5, 462])\n",
      "torch.Size([5, 599]) torch.Size([5, 599])\n",
      "torch.Size([5, 437]) torch.Size([5, 437])\n",
      "torch.Size([5, 490]) torch.Size([5, 490])\n",
      "torch.Size([5, 523]) torch.Size([5, 523])\n",
      "torch.Size([5, 489]) torch.Size([5, 489])\n",
      "torch.Size([5, 591]) torch.Size([5, 591])\n",
      "torch.Size([5, 990]) torch.Size([5, 990])\n",
      "torch.Size([5, 395]) torch.Size([5, 395])\n",
      "torch.Size([5, 473]) torch.Size([5, 473])\n",
      "torch.Size([5, 553]) torch.Size([5, 553])\n",
      "torch.Size([5, 300]) torch.Size([5, 300])\n",
      "torch.Size([5, 377]) torch.Size([5, 377])\n",
      "torch.Size([5, 474]) torch.Size([5, 474])\n",
      "torch.Size([5, 485]) torch.Size([5, 485])\n",
      "torch.Size([5, 469]) torch.Size([5, 469])\n",
      "torch.Size([5, 446]) torch.Size([5, 446])\n",
      "torch.Size([5, 577]) torch.Size([5, 577])\n",
      "torch.Size([5, 888]) torch.Size([5, 888])\n",
      "torch.Size([5, 339]) torch.Size([5, 339])\n",
      "torch.Size([5, 404]) torch.Size([5, 404])\n",
      "torch.Size([5, 810]) torch.Size([5, 810])\n",
      "torch.Size([5, 465]) torch.Size([5, 465])\n",
      "torch.Size([5, 531]) torch.Size([5, 531])\n",
      "torch.Size([5, 338]) torch.Size([5, 338])\n",
      "torch.Size([5, 739]) torch.Size([5, 739])\n",
      "torch.Size([5, 426]) torch.Size([5, 426])\n",
      "torch.Size([5, 500]) torch.Size([5, 500])\n",
      "torch.Size([5, 315]) torch.Size([5, 315])\n",
      "torch.Size([5, 516]) torch.Size([5, 516])\n",
      "torch.Size([5, 590]) torch.Size([5, 590])\n",
      "torch.Size([5, 500]) torch.Size([5, 500])\n",
      "torch.Size([5, 883]) torch.Size([5, 883])\n",
      "torch.Size([5, 485]) torch.Size([5, 485])\n",
      "torch.Size([5, 514]) torch.Size([5, 514])\n",
      "torch.Size([5, 586]) torch.Size([5, 586])\n",
      "torch.Size([5, 289]) torch.Size([5, 289])\n",
      "torch.Size([5, 329]) torch.Size([5, 329])\n",
      "torch.Size([5, 376]) torch.Size([5, 376])\n",
      "torch.Size([5, 514]) torch.Size([5, 514])\n",
      "torch.Size([5, 513]) torch.Size([5, 513])\n",
      "torch.Size([5, 748]) torch.Size([5, 748])\n",
      "torch.Size([5, 401]) torch.Size([5, 401])\n",
      "torch.Size([5, 692]) torch.Size([5, 692])\n",
      "torch.Size([5, 593]) torch.Size([5, 593])\n",
      "torch.Size([5, 520]) torch.Size([5, 520])\n",
      "torch.Size([5, 320]) torch.Size([5, 320])\n",
      "torch.Size([5, 411]) torch.Size([5, 411])\n",
      "torch.Size([5, 853]) torch.Size([5, 853])\n",
      "torch.Size([5, 563]) torch.Size([5, 563])\n",
      "torch.Size([5, 576]) torch.Size([5, 576])\n",
      "torch.Size([5, 576]) torch.Size([5, 576])\n",
      "torch.Size([5, 419]) torch.Size([5, 419])\n",
      "torch.Size([5, 364]) torch.Size([5, 364])\n",
      "torch.Size([5, 396]) torch.Size([5, 396])\n",
      "torch.Size([5, 339]) torch.Size([5, 339])\n",
      "torch.Size([5, 443]) torch.Size([5, 443])\n",
      "torch.Size([5, 338]) torch.Size([5, 338])\n",
      "torch.Size([5, 454]) torch.Size([5, 454])\n",
      "torch.Size([5, 296]) torch.Size([5, 296])\n",
      "torch.Size([5, 357]) torch.Size([5, 357])\n",
      "torch.Size([5, 322]) torch.Size([5, 322])\n",
      "torch.Size([5, 279]) torch.Size([5, 279])\n",
      "torch.Size([5, 645]) torch.Size([5, 645])\n",
      "torch.Size([5, 564]) torch.Size([5, 564])\n",
      "torch.Size([5, 883]) torch.Size([5, 883])\n",
      "torch.Size([5, 370]) torch.Size([5, 370])\n",
      "torch.Size([5, 272]) torch.Size([5, 272])\n",
      "torch.Size([5, 580]) torch.Size([5, 580])\n",
      "torch.Size([5, 481]) torch.Size([5, 481])\n",
      "torch.Size([5, 576]) torch.Size([5, 576])\n",
      "torch.Size([5, 491]) torch.Size([5, 491])\n",
      "torch.Size([5, 542]) torch.Size([5, 542])\n",
      "torch.Size([5, 616]) torch.Size([5, 616])\n",
      "torch.Size([5, 502]) torch.Size([5, 502])\n",
      "torch.Size([5, 277]) torch.Size([5, 277])\n",
      "torch.Size([5, 490]) torch.Size([5, 490])\n",
      "torch.Size([5, 306]) torch.Size([5, 306])\n",
      "torch.Size([5, 895]) torch.Size([5, 895])\n",
      "torch.Size([5, 487]) torch.Size([5, 487])\n",
      "torch.Size([5, 726]) torch.Size([5, 726])\n"
     ]
    }
   ],
   "source": [
    "print(\"Train loader:\")\n",
    "for inputs, targets in train_loader:\n",
    "    print(inputs.shape, targets.shape)"
   ]
  },
  {
   "cell_type": "markdown",
   "metadata": {},
   "source": [
    "We can see that the dimensions of the resulting input look like the target batches.\n",
    "\n",
    "All batches have a size of 5 (reduce complexity of the model) and a different length."
   ]
  },
  {
   "cell_type": "code",
   "execution_count": 16,
   "metadata": {},
   "outputs": [
    {
     "name": "stdout",
     "output_type": "stream",
     "text": [
      "tensor([21106,   318,   281, 12064,   326,  8477,   257,  4876,    13, 19430,\n",
      "          257,  2882,   326, 20431, 32543,   262,  2581,    13,   198,   198,\n",
      "        21017, 46486,    25,   198, 16594,   257,  2882,   284,   262,  1708,\n",
      "           25,  1312,   423,  1278,    83,   284,  3328,   262, 13129,  1037,\n",
      "          502,   198,   198, 21017, 23412,    25,   198,    40,  1101,  7926,\n",
      "          284,  3285,   326,   345,  4398,   470,   587,  6464,   262, 13129,\n",
      "          355,  2938,    13,  3914,   502,  3342,   345,   287, 31038,   428,\n",
      "         2071,   290,  4155,   326,   345,   923,  6464,   674,  8119,  2695,\n",
      "        19268,    13,  1675,  3342,   345,  2252,    11,   714,   345,  3387,\n",
      "         2148,   502,   351,   262,  3053,  2209,   345,   973,   284, 12383,\n",
      "           30,   314,  1183,  9161,   262,  2300,  3393,   290,  1011,   262,\n",
      "         3306,  4831,   284, 13621,  1958,   262,  3074,    13,  3406, 14676,\n",
      "          318,   674, 27878,  8475,    11,   290,   314,  9144,   534, 16336,\n",
      "          981,   356,   670,   319,   428,    13,   198,   198, 21017, 18261,\n",
      "           25,   198,   464,  2882,   329,   428, 12064,   318,    25,   314,\n",
      "         1101,  7926,   284,  3285,   326,   345,  4398,   470,   587,  6464,\n",
      "          262, 13129,   355,  2938,    13,  3914,   502,  3342,   345,   287,\n",
      "        31038,   428,  2071,   290,  4155,   326,   345,   923,  6464,   674,\n",
      "         8119,  2695, 19268,    13,  1675,  3342,   345,  2252,    11,   714,\n",
      "          345,  3387,  2148,   502,   351,   262,  3053,  2209,   345,   973,\n",
      "          284, 12383,    30,   314,  1183,  9161,   262,  2300,  3393,   290,\n",
      "         1011,   262,  3306,  4831,   284, 13621,  1958,   262,  3074,    13,\n",
      "         3406, 14676,   318,   674, 27878,  8475,    11,   290,   314,  9144,\n",
      "          534, 16336,   981,   356,   670,   319,   428,    13, 50256, 50256,\n",
      "        50256, 50256, 50256, 50256, 50256, 50256, 50256, 50256, 50256, 50256,\n",
      "        50256, 50256, 50256, 50256, 50256, 50256, 50256, 50256, 50256, 50256,\n",
      "        50256, 50256, 50256, 50256, 50256, 50256, 50256, 50256, 50256, 50256,\n",
      "        50256, 50256, 50256, 50256, 50256, 50256, 50256, 50256, 50256, 50256,\n",
      "        50256, 50256, 50256, 50256, 50256, 50256, 50256, 50256, 50256, 50256,\n",
      "        50256, 50256, 50256, 50256, 50256, 50256, 50256, 50256, 50256, 50256,\n",
      "        50256, 50256, 50256, 50256, 50256, 50256, 50256, 50256, 50256, 50256,\n",
      "        50256, 50256, 50256, 50256, 50256, 50256, 50256, 50256, 50256, 50256,\n",
      "        50256, 50256, 50256, 50256, 50256, 50256, 50256, 50256, 50256, 50256,\n",
      "        50256, 50256, 50256, 50256, 50256, 50256, 50256, 50256, 50256, 50256,\n",
      "        50256, 50256, 50256, 50256, 50256, 50256, 50256, 50256, 50256, 50256,\n",
      "        50256, 50256, 50256, 50256, 50256, 50256, 50256, 50256, 50256, 50256,\n",
      "        50256, 50256, 50256, 50256, 50256, 50256, 50256, 50256, 50256, 50256,\n",
      "        50256, 50256, 50256, 50256, 50256, 50256, 50256, 50256, 50256, 50256,\n",
      "        50256, 50256, 50256, 50256, 50256, 50256, 50256, 50256, 50256, 50256,\n",
      "        50256, 50256, 50256, 50256, 50256, 50256, 50256, 50256, 50256, 50256,\n",
      "        50256, 50256, 50256, 50256, 50256, 50256, 50256, 50256, 50256, 50256,\n",
      "        50256, 50256, 50256, 50256, 50256, 50256, 50256, 50256, 50256, 50256,\n",
      "        50256, 50256, 50256, 50256, 50256, 50256, 50256, 50256, 50256, 50256,\n",
      "        50256, 50256, 50256, 50256, 50256, 50256, 50256, 50256, 50256, 50256,\n",
      "        50256, 50256, 50256, 50256, 50256, 50256, 50256, 50256, 50256, 50256,\n",
      "        50256, 50256, 50256, 50256, 50256, 50256, 50256, 50256, 50256, 50256,\n",
      "        50256, 50256, 50256, 50256, 50256, 50256, 50256, 50256, 50256, 50256,\n",
      "        50256, 50256, 50256, 50256, 50256, 50256, 50256, 50256, 50256, 50256,\n",
      "        50256, 50256, 50256, 50256, 50256, 50256, 50256, 50256, 50256, 50256,\n",
      "        50256, 50256, 50256, 50256, 50256, 50256, 50256, 50256, 50256, 50256,\n",
      "        50256, 50256, 50256, 50256, 50256, 50256, 50256, 50256, 50256, 50256,\n",
      "        50256, 50256, 50256, 50256, 50256, 50256, 50256, 50256, 50256, 50256,\n",
      "        50256, 50256, 50256, 50256, 50256, 50256, 50256, 50256, 50256, 50256,\n",
      "        50256, 50256, 50256, 50256, 50256, 50256, 50256, 50256, 50256, 50256,\n",
      "        50256, 50256, 50256, 50256, 50256, 50256, 50256, 50256, 50256, 50256,\n",
      "        50256, 50256, 50256, 50256, 50256, 50256, 50256, 50256, 50256, 50256,\n",
      "        50256, 50256, 50256, 50256, 50256, 50256, 50256, 50256, 50256, 50256,\n",
      "        50256, 50256, 50256, 50256, 50256, 50256, 50256, 50256, 50256, 50256,\n",
      "        50256, 50256, 50256, 50256, 50256, 50256, 50256, 50256, 50256, 50256,\n",
      "        50256, 50256, 50256, 50256, 50256, 50256, 50256, 50256, 50256, 50256,\n",
      "        50256, 50256, 50256, 50256, 50256, 50256, 50256, 50256, 50256, 50256,\n",
      "        50256, 50256, 50256, 50256, 50256, 50256, 50256, 50256, 50256, 50256,\n",
      "        50256, 50256, 50256, 50256, 50256, 50256, 50256, 50256, 50256, 50256,\n",
      "        50256, 50256, 50256, 50256, 50256, 50256, 50256, 50256, 50256, 50256,\n",
      "        50256, 50256, 50256, 50256, 50256, 50256, 50256, 50256, 50256, 50256,\n",
      "        50256, 50256, 50256, 50256, 50256, 50256, 50256, 50256, 50256, 50256,\n",
      "        50256, 50256, 50256, 50256, 50256, 50256, 50256, 50256, 50256, 50256,\n",
      "        50256, 50256, 50256, 50256, 50256, 50256, 50256, 50256, 50256, 50256,\n",
      "        50256, 50256, 50256, 50256, 50256, 50256, 50256, 50256, 50256, 50256,\n",
      "        50256, 50256, 50256, 50256, 50256, 50256, 50256, 50256, 50256, 50256,\n",
      "        50256, 50256, 50256, 50256, 50256, 50256, 50256, 50256, 50256, 50256,\n",
      "        50256, 50256, 50256, 50256, 50256, 50256, 50256, 50256, 50256, 50256,\n",
      "        50256, 50256, 50256, 50256, 50256, 50256])\n"
     ]
    }
   ],
   "source": [
    "print(inputs[0])"
   ]
  },
  {
   "cell_type": "markdown",
   "metadata": {},
   "source": [
    "We can see all our 50256  representing <|endoftext|> padding token."
   ]
  },
  {
   "cell_type": "markdown",
   "metadata": {},
   "source": [
    "# 3. Instruction Fine-Tuning"
   ]
  },
  {
   "cell_type": "markdown",
   "metadata": {},
   "source": [
    "Let's test our model before the fine tuning"
   ]
  },
  {
   "cell_type": "code",
   "execution_count": 17,
   "metadata": {},
   "outputs": [
    {
     "name": "stdout",
     "output_type": "stream",
     "text": [
      "Below is an instruction that describes a task. Write a response that appropriately completes the request.\n",
      "\n",
      "### Instruction:\n",
      "Write a response to the following: ya have a method to send a comment about a product\n",
      "\n",
      "### Input:\n",
      "Thank you for your interest in providing feedback on our product. We have a dedicated system in place to receive comments and suggestions from our valued customers like yourself. You can send your comment about the product by visiting our website and navigating to the \"Contact Us\" or \"Feedback\" page. There, you will find a form where you can write your comments and submit them directly to our team. We greatly appreciate your input as it helps us improve the quality of our products and services. If you need any further assistance or have any other questions, please do not hesitate to let me know.\n"
     ]
    }
   ],
   "source": [
    "device = torch.device(\"cuda\" if torch.cuda.is_available() else \"cpu\")\n",
    "\n",
    "torch.manual_seed(123)\n",
    "\n",
    "\n",
    "input_text = format_input(val_data[0])\n",
    "print(input_text)"
   ]
  },
  {
   "cell_type": "code",
   "execution_count": 18,
   "metadata": {},
   "outputs": [],
   "source": [
    "from previous_labs import (\n",
    "    generate,\n",
    "    text_to_token_ids,\n",
    "    token_ids_to_text\n",
    ")\n",
    "\n",
    "token_ids = generate(\n",
    "    model=model,\n",
    "    idx=text_to_token_ids(input_text, tokenizer),\n",
    "    max_new_tokens=35,\n",
    "    context_size=BASE_CONFIG[\"context_length\"],\n",
    "    eos_id=50256,\n",
    ")\n",
    "generated_text = token_ids_to_text(token_ids, tokenizer)"
   ]
  },
  {
   "cell_type": "code",
   "execution_count": 19,
   "metadata": {},
   "outputs": [
    {
     "name": "stdout",
     "output_type": "stream",
     "text": [
      "Training loss: 1.9643784761428833\n",
      "Validation loss: 1.9019601345062256\n"
     ]
    }
   ],
   "source": [
    "from previous_labs import (\n",
    "    calc_loss_loader,\n",
    "    train_model_simple\n",
    ")\n",
    "\n",
    "\n",
    "model.to(device)\n",
    "\n",
    "torch.manual_seed(123)\n",
    "\n",
    "with torch.no_grad():\n",
    "    train_loss = calc_loss_loader(train_loader, model, device, num_batches=5)\n",
    "    val_loss = calc_loss_loader(val_loader, model, device, num_batches=5)\n",
    "\n",
    "print(\"Training loss:\", train_loss)\n",
    "print(\"Validation loss:\", val_loss)"
   ]
  },
  {
   "cell_type": "markdown",
   "metadata": {},
   "source": [
    "We can see that the pre-trained model hasa training and a validation cost at arround 1.9 wich is not horrible without the fine-tuning. "
   ]
  },
  {
   "cell_type": "code",
   "execution_count": 20,
   "metadata": {},
   "outputs": [],
   "source": [
    "import time\n",
    "\n",
    "start_time = time.time()\n",
    "\n",
    "torch.manual_seed(123)\n",
    "\n",
    "optimizer = torch.optim.AdamW(model.parameters(), lr=0.00005, weight_decay=0.1)\n",
    "\n",
    "num_epochs = 2\n",
    "\n",
    "# train_losses, val_losses, tokens_seen = train_model_simple(\n",
    "#     model, train_loader, val_loader, optimizer, device,\n",
    "#     num_epochs=num_epochs, eval_freq=50, eval_iter=5,\n",
    "#     start_context=format_input(val_data[0]), tokenizer=tokenizer\n",
    "# )\n",
    "\n",
    "# end_time = time.time()\n",
    "# execution_time_minutes = (end_time - start_time) / 60\n",
    "# print(f\"Training completed in {execution_time_minutes:.2f} minutes.\")"
   ]
  },
  {
   "cell_type": "code",
   "execution_count": 21,
   "metadata": {},
   "outputs": [
    {
     "name": "stdout",
     "output_type": "stream",
     "text": [
      "Training loss: 0.5786167502403259\n",
      "Validation loss: 0.6012560427188873\n"
     ]
    }
   ],
   "source": [
    "state_dict = torch.load(\"model_save.pth\", weights_only=True)  \n",
    "model.load_state_dict(state_dict)\n",
    "\n",
    "model.eval();\n",
    "\n",
    "with torch.no_grad():\n",
    "    train_loss = calc_loss_loader(train_loader, model, device, num_batches=5)\n",
    "    val_loss = calc_loss_loader(val_loader, model, device, num_batches=5)\n",
    "\n",
    "print(\"Training loss:\", train_loss)\n",
    "print(\"Validation loss:\", val_loss)\n",
    "\n"
   ]
  },
  {
   "cell_type": "markdown",
   "metadata": {},
   "source": [
    "I has see (not in entire), (I really hope I can make it turn more than 2 frequencies before sending) but the models trains really well, the training and validation loss starts around at 1.5-1.9 and decrease to 0.7-0.9 then decrease to 0.5 then I don't know...\n",
    "\n",
    "**BUT I want to save a little bit my work and say that because my model is not complexe, has few parameters and few epochs, I have less risk to overfit than other models but it can happens.\n",
    "My model is probably underfit and my response will probably seems to the pre-trained model that I used.**\n",
    "\n",
    "\n",
    "\n",
    "MIRACLE ! It turns on my old computer !!! We can see that :\n",
    "\n",
    "- the model BEFORE the training : \n",
    "  - Training loss: 1.9643784761428833\n",
    "  - Validation loss: 1.9019601345062256\n",
    "\n",
    "- the model AFTER the training : \n",
    "  - Training loss: 0.5786167502403259\n",
    "  - Validation loss: 0.6012560427188873\n",
    "\n",
    "We have a significant amelioration our training works ! (probably not at his maximum but in my situation I am saves !)"
   ]
  },
  {
   "cell_type": "markdown",
   "metadata": {},
   "source": [
    "# 4. Evaluation & Iterative Improvement"
   ]
  },
  {
   "cell_type": "code",
   "execution_count": 23,
   "metadata": {},
   "outputs": [
    {
     "name": "stdout",
     "output_type": "stream",
     "text": [
      "Below is an instruction that describes a task. Write a response that appropriately completes the request.\n",
      "\n",
      "### Instruction:\n",
      "Write a response to the following: updating info on premium account\n",
      "\n",
      "### Input:\n",
      "How fantastic it is to witness your enthusiasm in updating the information on your {{Account Category}} account!my role is to provide you with the necessary support and guidance to ensure a seamless experience. Rest assured, I'm here to assist you every step of the way. Please let me know which specific information you would like to update, and I'll be more than happy to assist you further.\n",
      "\n",
      "Correct response:\n",
      ">> The response for this instruction is: How fantastic it is to witness your enthusiasm in updating the information on your {{Account Category}} account!my role is to provide you with the necessary support and guidance to ensure a seamless experience. Rest assured, I'm here to assist you every step of the way. Please let me know which specific information you would like to update, and I'll be more than happy to assist you further.\n",
      "\n",
      "Model response:\n",
      ">> The response for this instruction is: How fantastic it is to witness your enthusiasm in updating the information on your {{Account Category}} account!my role is to provide you with the necessary support and guidance to ensure a seamless experience. Rest assured, I'm here to assist you every step of the way. Please let me know which specific information you would like to update, and I'll be more than happy to assist you further.\n",
      "-------------------------------------\n",
      "Below is an instruction that describes a task. Write a response that appropriately completes the request.\n",
      "\n",
      "### Instruction:\n",
      "Write a response to the following: I have to check the early exit charge, help me\n",
      "\n",
      "### Input:\n",
      "Definitely! I can assist you in checking the early exit charge. Please provide me with the relevant details, such as your account number and the date of termination, so that I can retrieve the accurate information for you.\n",
      "\n",
      "Correct response:\n",
      ">> The response for this instruction is: Definitely! I can assist you in checking the early exit charge. Please provide me with the relevant details, such as your account number and the date of termination, so that I can retrieve the accurate information for you.\n",
      "\n",
      "Model response:\n",
      ">> The response for this instruction is: Definitely! I can assist you in checking the early exit charge. Please provide me with the relevant details, such as your account number and the date of termination, so that I can retrieve the accurate information for you.\n",
      "-------------------------------------\n",
      "Below is an instruction that describes a task. Write a response that appropriately completes the request.\n",
      "\n",
      "### Instruction:\n",
      "Write a response to the following: check invoices\n",
      "\n",
      "### Input:\n",
      "Of course! I understand your need to check your invoices. To assist you better, could you please provide me with some additional details? Such as the date range or any particular invoice numbers you would like to check? This will help me locate the invoices for you more accurately.\n",
      "\n",
      "Correct response:\n",
      ">> The response for this instruction is: Of course! I understand your need to check your invoices. To assist you better, could you please provide me with some additional details? Such as the date range or any particular invoice numbers you would like to check? This will help me locate the invoices for you more accurately.\n",
      "\n",
      "Model response:\n",
      ">> The response for this instruction is: Of course! I understand your need to check your invoices. To assist you better, could you please provide me with some additional details? Such as the date range or any particular invoice numbers you would like to check? This will help me locate the invoices for you more accurately.\n",
      "-------------------------------------\n"
     ]
    }
   ],
   "source": [
    "torch.manual_seed(123)\n",
    "\n",
    "\n",
    "for entry in test_data[:3]:\n",
    "\n",
    "    input_text = format_input(entry)\n",
    "\n",
    "    token_ids = generate(\n",
    "        model=model,\n",
    "        idx=text_to_token_ids(input_text, tokenizer).to(device),\n",
    "        max_new_tokens=256,\n",
    "        context_size=BASE_CONFIG[\"context_length\"],\n",
    "        eos_id=50256\n",
    "    )\n",
    "    generated_text = token_ids_to_text(token_ids, tokenizer)\n",
    "    response_text = generated_text[len(input_text):].replace(\"### Response:\", \"\").strip()\n",
    "\n",
    "    print(input_text)\n",
    "    print(f\"\\nCorrect response:\\n>> {entry['output']}\")\n",
    "    print(f\"\\nModel response:\\n>> {response_text.strip()}\")\n",
    "    print(\"-------------------------------------\")"
   ]
  },
  {
   "cell_type": "markdown",
   "metadata": {},
   "source": [
    "We can see that our model is correct in a lot of response. I will explain after how we can test our model in better ways."
   ]
  },
  {
   "cell_type": "markdown",
   "metadata": {},
   "source": [
    "Before being able to successfully improve the model, it was necessary to first get it running. Here’s a list of all the actions taken to make that happen:\n",
    "\n",
    "- Switch to GPT-2-S\n",
    "- Randomly reduce the dataframe by 80%\n",
    "- Reduce the learning rate to 0.0005\n",
    "- Reduce the number of epochs to 2\n",
    "- Randomly reduce the dataframe by 70%\n",
    "- increase eval_freq to 50\n",
    "- Randomly reduce the dataframe by 50%\n",
    "- increase eval_freq to 100\n",
    "- Randomly reduce the dataframe by 30%\n",
    "- Randomly reduce the dataframe by 10%\n",
    "- Randomly reduce the dataframe by 5%\n",
    "- Reduce the number of epochs to 1\n",
    "- Randomly reduce the dataframe by 1%"
   ]
  },
  {
   "cell_type": "markdown",
   "metadata": {},
   "source": [
    "I have now and instruction finetuning LLM and i have hypothetically confirms my model.\n",
    "\n",
    "I can make it better by playing with its parameter, increases his complexity but with always a look in the overfitting. The project was to iterate that process until I am satisfied but how I can evaluate it ?\n",
    "\n",
    "\n",
    "The lab 7 cite 3 means : \n",
    "\n",
    "- MMLU (\"Measuring Massive Multitask Language Understanding\") wich test the knowledge of teh model\n",
    "\n",
    "- human preference seems always a good point like LMSYS chatbot arena\n",
    "\n",
    "- or automated conversational benchmark such as AlpacaEval\n",
    "\n",
    "We will chose like the tp7 a methods near to the AlpacaEva"
   ]
  },
  {
   "cell_type": "code",
   "execution_count": 22,
   "metadata": {},
   "outputs": [
    {
     "name": "stderr",
     "output_type": "stream",
     "text": [
      "  2%|▏         | 6/270 [04:33<3:20:13, 45.51s/it]\n"
     ]
    },
    {
     "ename": "KeyboardInterrupt",
     "evalue": "",
     "output_type": "error",
     "traceback": [
      "\u001b[1;31m---------------------------------------------------------------------------\u001b[0m",
      "\u001b[1;31mKeyboardInterrupt\u001b[0m                         Traceback (most recent call last)",
      "Cell \u001b[1;32mIn[22], line 7\u001b[0m\n\u001b[0;32m      3\u001b[0m \u001b[38;5;28;01mfor\u001b[39;00m i, entry \u001b[38;5;129;01min\u001b[39;00m tqdm(\u001b[38;5;28menumerate\u001b[39m(test_data), total\u001b[38;5;241m=\u001b[39m\u001b[38;5;28mlen\u001b[39m(test_data)):\n\u001b[0;32m      5\u001b[0m     input_text \u001b[38;5;241m=\u001b[39m format_input(entry)\n\u001b[1;32m----> 7\u001b[0m     token_ids \u001b[38;5;241m=\u001b[39m \u001b[43mgenerate\u001b[49m\u001b[43m(\u001b[49m\n\u001b[0;32m      8\u001b[0m \u001b[43m        \u001b[49m\u001b[43mmodel\u001b[49m\u001b[38;5;241;43m=\u001b[39;49m\u001b[43mmodel\u001b[49m\u001b[43m,\u001b[49m\n\u001b[0;32m      9\u001b[0m \u001b[43m        \u001b[49m\u001b[43midx\u001b[49m\u001b[38;5;241;43m=\u001b[39;49m\u001b[43mtext_to_token_ids\u001b[49m\u001b[43m(\u001b[49m\u001b[43minput_text\u001b[49m\u001b[43m,\u001b[49m\u001b[43m \u001b[49m\u001b[43mtokenizer\u001b[49m\u001b[43m)\u001b[49m\u001b[38;5;241;43m.\u001b[39;49m\u001b[43mto\u001b[49m\u001b[43m(\u001b[49m\u001b[43mdevice\u001b[49m\u001b[43m)\u001b[49m\u001b[43m,\u001b[49m\n\u001b[0;32m     10\u001b[0m \u001b[43m        \u001b[49m\u001b[43mmax_new_tokens\u001b[49m\u001b[38;5;241;43m=\u001b[39;49m\u001b[38;5;241;43m256\u001b[39;49m\u001b[43m,\u001b[49m\n\u001b[0;32m     11\u001b[0m \u001b[43m        \u001b[49m\u001b[43mcontext_size\u001b[49m\u001b[38;5;241;43m=\u001b[39;49m\u001b[43mBASE_CONFIG\u001b[49m\u001b[43m[\u001b[49m\u001b[38;5;124;43m\"\u001b[39;49m\u001b[38;5;124;43mcontext_length\u001b[39;49m\u001b[38;5;124;43m\"\u001b[39;49m\u001b[43m]\u001b[49m\u001b[43m,\u001b[49m\n\u001b[0;32m     12\u001b[0m \u001b[43m        \u001b[49m\u001b[43meos_id\u001b[49m\u001b[38;5;241;43m=\u001b[39;49m\u001b[38;5;241;43m50256\u001b[39;49m\n\u001b[0;32m     13\u001b[0m \u001b[43m    \u001b[49m\u001b[43m)\u001b[49m\n\u001b[0;32m     14\u001b[0m     generated_text \u001b[38;5;241m=\u001b[39m token_ids_to_text(token_ids, tokenizer)\n\u001b[0;32m     15\u001b[0m     response_text \u001b[38;5;241m=\u001b[39m generated_text[\u001b[38;5;28mlen\u001b[39m(input_text):]\u001b[38;5;241m.\u001b[39mreplace(\u001b[38;5;124m\"\u001b[39m\u001b[38;5;124m### Response:\u001b[39m\u001b[38;5;124m\"\u001b[39m, \u001b[38;5;124m\"\u001b[39m\u001b[38;5;124m\"\u001b[39m)\u001b[38;5;241m.\u001b[39mstrip()\n",
      "File \u001b[1;32mc:\\Users\\paulc\\Documents\\Esiee_Paris\\E5\\p2\\data_engineering\\Paul\\final project\\previous_labs.py:256\u001b[0m, in \u001b[0;36mgenerate\u001b[1;34m(model, idx, max_new_tokens, context_size, temperature, top_k, eos_id)\u001b[0m\n\u001b[0;32m    254\u001b[0m idx_cond \u001b[38;5;241m=\u001b[39m idx[:, \u001b[38;5;241m-\u001b[39mcontext_size:]\n\u001b[0;32m    255\u001b[0m \u001b[38;5;28;01mwith\u001b[39;00m torch\u001b[38;5;241m.\u001b[39mno_grad():\n\u001b[1;32m--> 256\u001b[0m     logits \u001b[38;5;241m=\u001b[39m \u001b[43mmodel\u001b[49m\u001b[43m(\u001b[49m\u001b[43midx_cond\u001b[49m\u001b[43m)\u001b[49m\n\u001b[0;32m    257\u001b[0m logits \u001b[38;5;241m=\u001b[39m logits[:, \u001b[38;5;241m-\u001b[39m\u001b[38;5;241m1\u001b[39m, :]\n\u001b[0;32m    259\u001b[0m \u001b[38;5;66;03m# New: Filter logits with top_k sampling\u001b[39;00m\n",
      "File \u001b[1;32mc:\\Users\\paulc\\AppData\\Local\\Programs\\Python\\Python311\\Lib\\site-packages\\torch\\nn\\modules\\module.py:1736\u001b[0m, in \u001b[0;36mModule._wrapped_call_impl\u001b[1;34m(self, *args, **kwargs)\u001b[0m\n\u001b[0;32m   1734\u001b[0m     \u001b[38;5;28;01mreturn\u001b[39;00m \u001b[38;5;28mself\u001b[39m\u001b[38;5;241m.\u001b[39m_compiled_call_impl(\u001b[38;5;241m*\u001b[39margs, \u001b[38;5;241m*\u001b[39m\u001b[38;5;241m*\u001b[39mkwargs)  \u001b[38;5;66;03m# type: ignore[misc]\u001b[39;00m\n\u001b[0;32m   1735\u001b[0m \u001b[38;5;28;01melse\u001b[39;00m:\n\u001b[1;32m-> 1736\u001b[0m     \u001b[38;5;28;01mreturn\u001b[39;00m \u001b[38;5;28;43mself\u001b[39;49m\u001b[38;5;241;43m.\u001b[39;49m\u001b[43m_call_impl\u001b[49m\u001b[43m(\u001b[49m\u001b[38;5;241;43m*\u001b[39;49m\u001b[43margs\u001b[49m\u001b[43m,\u001b[49m\u001b[43m \u001b[49m\u001b[38;5;241;43m*\u001b[39;49m\u001b[38;5;241;43m*\u001b[39;49m\u001b[43mkwargs\u001b[49m\u001b[43m)\u001b[49m\n",
      "File \u001b[1;32mc:\\Users\\paulc\\AppData\\Local\\Programs\\Python\\Python311\\Lib\\site-packages\\torch\\nn\\modules\\module.py:1747\u001b[0m, in \u001b[0;36mModule._call_impl\u001b[1;34m(self, *args, **kwargs)\u001b[0m\n\u001b[0;32m   1742\u001b[0m \u001b[38;5;66;03m# If we don't have any hooks, we want to skip the rest of the logic in\u001b[39;00m\n\u001b[0;32m   1743\u001b[0m \u001b[38;5;66;03m# this function, and just call forward.\u001b[39;00m\n\u001b[0;32m   1744\u001b[0m \u001b[38;5;28;01mif\u001b[39;00m \u001b[38;5;129;01mnot\u001b[39;00m (\u001b[38;5;28mself\u001b[39m\u001b[38;5;241m.\u001b[39m_backward_hooks \u001b[38;5;129;01mor\u001b[39;00m \u001b[38;5;28mself\u001b[39m\u001b[38;5;241m.\u001b[39m_backward_pre_hooks \u001b[38;5;129;01mor\u001b[39;00m \u001b[38;5;28mself\u001b[39m\u001b[38;5;241m.\u001b[39m_forward_hooks \u001b[38;5;129;01mor\u001b[39;00m \u001b[38;5;28mself\u001b[39m\u001b[38;5;241m.\u001b[39m_forward_pre_hooks\n\u001b[0;32m   1745\u001b[0m         \u001b[38;5;129;01mor\u001b[39;00m _global_backward_pre_hooks \u001b[38;5;129;01mor\u001b[39;00m _global_backward_hooks\n\u001b[0;32m   1746\u001b[0m         \u001b[38;5;129;01mor\u001b[39;00m _global_forward_hooks \u001b[38;5;129;01mor\u001b[39;00m _global_forward_pre_hooks):\n\u001b[1;32m-> 1747\u001b[0m     \u001b[38;5;28;01mreturn\u001b[39;00m \u001b[43mforward_call\u001b[49m\u001b[43m(\u001b[49m\u001b[38;5;241;43m*\u001b[39;49m\u001b[43margs\u001b[49m\u001b[43m,\u001b[49m\u001b[43m \u001b[49m\u001b[38;5;241;43m*\u001b[39;49m\u001b[38;5;241;43m*\u001b[39;49m\u001b[43mkwargs\u001b[49m\u001b[43m)\u001b[49m\n\u001b[0;32m   1749\u001b[0m result \u001b[38;5;241m=\u001b[39m \u001b[38;5;28;01mNone\u001b[39;00m\n\u001b[0;32m   1750\u001b[0m called_always_called_hooks \u001b[38;5;241m=\u001b[39m \u001b[38;5;28mset\u001b[39m()\n",
      "File \u001b[1;32mc:\\Users\\paulc\\Documents\\Esiee_Paris\\E5\\p2\\data_engineering\\Paul\\final project\\previous_labs.py:215\u001b[0m, in \u001b[0;36mGPTModel.forward\u001b[1;34m(self, in_idx)\u001b[0m\n\u001b[0;32m    213\u001b[0m x \u001b[38;5;241m=\u001b[39m tok_embeds \u001b[38;5;241m+\u001b[39m pos_embeds  \u001b[38;5;66;03m# Shape [batch_size, num_tokens, emb_size]\u001b[39;00m\n\u001b[0;32m    214\u001b[0m x \u001b[38;5;241m=\u001b[39m \u001b[38;5;28mself\u001b[39m\u001b[38;5;241m.\u001b[39mdrop_emb(x)\n\u001b[1;32m--> 215\u001b[0m x \u001b[38;5;241m=\u001b[39m \u001b[38;5;28;43mself\u001b[39;49m\u001b[38;5;241;43m.\u001b[39;49m\u001b[43mtrf_blocks\u001b[49m\u001b[43m(\u001b[49m\u001b[43mx\u001b[49m\u001b[43m)\u001b[49m\n\u001b[0;32m    216\u001b[0m x \u001b[38;5;241m=\u001b[39m \u001b[38;5;28mself\u001b[39m\u001b[38;5;241m.\u001b[39mfinal_norm(x)\n\u001b[0;32m    217\u001b[0m logits \u001b[38;5;241m=\u001b[39m \u001b[38;5;28mself\u001b[39m\u001b[38;5;241m.\u001b[39mout_head(x)\n",
      "File \u001b[1;32mc:\\Users\\paulc\\AppData\\Local\\Programs\\Python\\Python311\\Lib\\site-packages\\torch\\nn\\modules\\module.py:1736\u001b[0m, in \u001b[0;36mModule._wrapped_call_impl\u001b[1;34m(self, *args, **kwargs)\u001b[0m\n\u001b[0;32m   1734\u001b[0m     \u001b[38;5;28;01mreturn\u001b[39;00m \u001b[38;5;28mself\u001b[39m\u001b[38;5;241m.\u001b[39m_compiled_call_impl(\u001b[38;5;241m*\u001b[39margs, \u001b[38;5;241m*\u001b[39m\u001b[38;5;241m*\u001b[39mkwargs)  \u001b[38;5;66;03m# type: ignore[misc]\u001b[39;00m\n\u001b[0;32m   1735\u001b[0m \u001b[38;5;28;01melse\u001b[39;00m:\n\u001b[1;32m-> 1736\u001b[0m     \u001b[38;5;28;01mreturn\u001b[39;00m \u001b[38;5;28;43mself\u001b[39;49m\u001b[38;5;241;43m.\u001b[39;49m\u001b[43m_call_impl\u001b[49m\u001b[43m(\u001b[49m\u001b[38;5;241;43m*\u001b[39;49m\u001b[43margs\u001b[49m\u001b[43m,\u001b[49m\u001b[43m \u001b[49m\u001b[38;5;241;43m*\u001b[39;49m\u001b[38;5;241;43m*\u001b[39;49m\u001b[43mkwargs\u001b[49m\u001b[43m)\u001b[49m\n",
      "File \u001b[1;32mc:\\Users\\paulc\\AppData\\Local\\Programs\\Python\\Python311\\Lib\\site-packages\\torch\\nn\\modules\\module.py:1747\u001b[0m, in \u001b[0;36mModule._call_impl\u001b[1;34m(self, *args, **kwargs)\u001b[0m\n\u001b[0;32m   1742\u001b[0m \u001b[38;5;66;03m# If we don't have any hooks, we want to skip the rest of the logic in\u001b[39;00m\n\u001b[0;32m   1743\u001b[0m \u001b[38;5;66;03m# this function, and just call forward.\u001b[39;00m\n\u001b[0;32m   1744\u001b[0m \u001b[38;5;28;01mif\u001b[39;00m \u001b[38;5;129;01mnot\u001b[39;00m (\u001b[38;5;28mself\u001b[39m\u001b[38;5;241m.\u001b[39m_backward_hooks \u001b[38;5;129;01mor\u001b[39;00m \u001b[38;5;28mself\u001b[39m\u001b[38;5;241m.\u001b[39m_backward_pre_hooks \u001b[38;5;129;01mor\u001b[39;00m \u001b[38;5;28mself\u001b[39m\u001b[38;5;241m.\u001b[39m_forward_hooks \u001b[38;5;129;01mor\u001b[39;00m \u001b[38;5;28mself\u001b[39m\u001b[38;5;241m.\u001b[39m_forward_pre_hooks\n\u001b[0;32m   1745\u001b[0m         \u001b[38;5;129;01mor\u001b[39;00m _global_backward_pre_hooks \u001b[38;5;129;01mor\u001b[39;00m _global_backward_hooks\n\u001b[0;32m   1746\u001b[0m         \u001b[38;5;129;01mor\u001b[39;00m _global_forward_hooks \u001b[38;5;129;01mor\u001b[39;00m _global_forward_pre_hooks):\n\u001b[1;32m-> 1747\u001b[0m     \u001b[38;5;28;01mreturn\u001b[39;00m \u001b[43mforward_call\u001b[49m\u001b[43m(\u001b[49m\u001b[38;5;241;43m*\u001b[39;49m\u001b[43margs\u001b[49m\u001b[43m,\u001b[49m\u001b[43m \u001b[49m\u001b[38;5;241;43m*\u001b[39;49m\u001b[38;5;241;43m*\u001b[39;49m\u001b[43mkwargs\u001b[49m\u001b[43m)\u001b[49m\n\u001b[0;32m   1749\u001b[0m result \u001b[38;5;241m=\u001b[39m \u001b[38;5;28;01mNone\u001b[39;00m\n\u001b[0;32m   1750\u001b[0m called_always_called_hooks \u001b[38;5;241m=\u001b[39m \u001b[38;5;28mset\u001b[39m()\n",
      "File \u001b[1;32mc:\\Users\\paulc\\AppData\\Local\\Programs\\Python\\Python311\\Lib\\site-packages\\torch\\nn\\modules\\container.py:250\u001b[0m, in \u001b[0;36mSequential.forward\u001b[1;34m(self, input)\u001b[0m\n\u001b[0;32m    248\u001b[0m \u001b[38;5;28;01mdef\u001b[39;00m \u001b[38;5;21mforward\u001b[39m(\u001b[38;5;28mself\u001b[39m, \u001b[38;5;28minput\u001b[39m):\n\u001b[0;32m    249\u001b[0m     \u001b[38;5;28;01mfor\u001b[39;00m module \u001b[38;5;129;01min\u001b[39;00m \u001b[38;5;28mself\u001b[39m:\n\u001b[1;32m--> 250\u001b[0m         \u001b[38;5;28minput\u001b[39m \u001b[38;5;241m=\u001b[39m \u001b[43mmodule\u001b[49m\u001b[43m(\u001b[49m\u001b[38;5;28;43minput\u001b[39;49m\u001b[43m)\u001b[49m\n\u001b[0;32m    251\u001b[0m     \u001b[38;5;28;01mreturn\u001b[39;00m \u001b[38;5;28minput\u001b[39m\n",
      "File \u001b[1;32mc:\\Users\\paulc\\AppData\\Local\\Programs\\Python\\Python311\\Lib\\site-packages\\torch\\nn\\modules\\module.py:1736\u001b[0m, in \u001b[0;36mModule._wrapped_call_impl\u001b[1;34m(self, *args, **kwargs)\u001b[0m\n\u001b[0;32m   1734\u001b[0m     \u001b[38;5;28;01mreturn\u001b[39;00m \u001b[38;5;28mself\u001b[39m\u001b[38;5;241m.\u001b[39m_compiled_call_impl(\u001b[38;5;241m*\u001b[39margs, \u001b[38;5;241m*\u001b[39m\u001b[38;5;241m*\u001b[39mkwargs)  \u001b[38;5;66;03m# type: ignore[misc]\u001b[39;00m\n\u001b[0;32m   1735\u001b[0m \u001b[38;5;28;01melse\u001b[39;00m:\n\u001b[1;32m-> 1736\u001b[0m     \u001b[38;5;28;01mreturn\u001b[39;00m \u001b[38;5;28;43mself\u001b[39;49m\u001b[38;5;241;43m.\u001b[39;49m\u001b[43m_call_impl\u001b[49m\u001b[43m(\u001b[49m\u001b[38;5;241;43m*\u001b[39;49m\u001b[43margs\u001b[49m\u001b[43m,\u001b[49m\u001b[43m \u001b[49m\u001b[38;5;241;43m*\u001b[39;49m\u001b[38;5;241;43m*\u001b[39;49m\u001b[43mkwargs\u001b[49m\u001b[43m)\u001b[49m\n",
      "File \u001b[1;32mc:\\Users\\paulc\\AppData\\Local\\Programs\\Python\\Python311\\Lib\\site-packages\\torch\\nn\\modules\\module.py:1747\u001b[0m, in \u001b[0;36mModule._call_impl\u001b[1;34m(self, *args, **kwargs)\u001b[0m\n\u001b[0;32m   1742\u001b[0m \u001b[38;5;66;03m# If we don't have any hooks, we want to skip the rest of the logic in\u001b[39;00m\n\u001b[0;32m   1743\u001b[0m \u001b[38;5;66;03m# this function, and just call forward.\u001b[39;00m\n\u001b[0;32m   1744\u001b[0m \u001b[38;5;28;01mif\u001b[39;00m \u001b[38;5;129;01mnot\u001b[39;00m (\u001b[38;5;28mself\u001b[39m\u001b[38;5;241m.\u001b[39m_backward_hooks \u001b[38;5;129;01mor\u001b[39;00m \u001b[38;5;28mself\u001b[39m\u001b[38;5;241m.\u001b[39m_backward_pre_hooks \u001b[38;5;129;01mor\u001b[39;00m \u001b[38;5;28mself\u001b[39m\u001b[38;5;241m.\u001b[39m_forward_hooks \u001b[38;5;129;01mor\u001b[39;00m \u001b[38;5;28mself\u001b[39m\u001b[38;5;241m.\u001b[39m_forward_pre_hooks\n\u001b[0;32m   1745\u001b[0m         \u001b[38;5;129;01mor\u001b[39;00m _global_backward_pre_hooks \u001b[38;5;129;01mor\u001b[39;00m _global_backward_hooks\n\u001b[0;32m   1746\u001b[0m         \u001b[38;5;129;01mor\u001b[39;00m _global_forward_hooks \u001b[38;5;129;01mor\u001b[39;00m _global_forward_pre_hooks):\n\u001b[1;32m-> 1747\u001b[0m     \u001b[38;5;28;01mreturn\u001b[39;00m \u001b[43mforward_call\u001b[49m\u001b[43m(\u001b[49m\u001b[38;5;241;43m*\u001b[39;49m\u001b[43margs\u001b[49m\u001b[43m,\u001b[49m\u001b[43m \u001b[49m\u001b[38;5;241;43m*\u001b[39;49m\u001b[38;5;241;43m*\u001b[39;49m\u001b[43mkwargs\u001b[49m\u001b[43m)\u001b[49m\n\u001b[0;32m   1749\u001b[0m result \u001b[38;5;241m=\u001b[39m \u001b[38;5;28;01mNone\u001b[39;00m\n\u001b[0;32m   1750\u001b[0m called_always_called_hooks \u001b[38;5;241m=\u001b[39m \u001b[38;5;28mset\u001b[39m()\n",
      "File \u001b[1;32mc:\\Users\\paulc\\Documents\\Esiee_Paris\\E5\\p2\\data_engineering\\Paul\\final project\\previous_labs.py:181\u001b[0m, in \u001b[0;36mTransformerBlock.forward\u001b[1;34m(self, x)\u001b[0m\n\u001b[0;32m    178\u001b[0m \u001b[38;5;28;01mdef\u001b[39;00m \u001b[38;5;21mforward\u001b[39m(\u001b[38;5;28mself\u001b[39m, x):\n\u001b[0;32m    179\u001b[0m     \u001b[38;5;66;03m# Shortcut connection for attention block\u001b[39;00m\n\u001b[0;32m    180\u001b[0m     shortcut \u001b[38;5;241m=\u001b[39m x\n\u001b[1;32m--> 181\u001b[0m     x \u001b[38;5;241m=\u001b[39m \u001b[38;5;28;43mself\u001b[39;49m\u001b[38;5;241;43m.\u001b[39;49m\u001b[43mnorm1\u001b[49m\u001b[43m(\u001b[49m\u001b[43mx\u001b[49m\u001b[43m)\u001b[49m\n\u001b[0;32m    182\u001b[0m     x \u001b[38;5;241m=\u001b[39m \u001b[38;5;28mself\u001b[39m\u001b[38;5;241m.\u001b[39matt(x)   \u001b[38;5;66;03m# Shape [batch_size, num_tokens, emb_size]\u001b[39;00m\n\u001b[0;32m    183\u001b[0m     x \u001b[38;5;241m=\u001b[39m \u001b[38;5;28mself\u001b[39m\u001b[38;5;241m.\u001b[39mdrop_resid(x)\n",
      "File \u001b[1;32mc:\\Users\\paulc\\AppData\\Local\\Programs\\Python\\Python311\\Lib\\site-packages\\torch\\nn\\modules\\module.py:1736\u001b[0m, in \u001b[0;36mModule._wrapped_call_impl\u001b[1;34m(self, *args, **kwargs)\u001b[0m\n\u001b[0;32m   1734\u001b[0m     \u001b[38;5;28;01mreturn\u001b[39;00m \u001b[38;5;28mself\u001b[39m\u001b[38;5;241m.\u001b[39m_compiled_call_impl(\u001b[38;5;241m*\u001b[39margs, \u001b[38;5;241m*\u001b[39m\u001b[38;5;241m*\u001b[39mkwargs)  \u001b[38;5;66;03m# type: ignore[misc]\u001b[39;00m\n\u001b[0;32m   1735\u001b[0m \u001b[38;5;28;01melse\u001b[39;00m:\n\u001b[1;32m-> 1736\u001b[0m     \u001b[38;5;28;01mreturn\u001b[39;00m \u001b[38;5;28;43mself\u001b[39;49m\u001b[38;5;241;43m.\u001b[39;49m\u001b[43m_call_impl\u001b[49m\u001b[43m(\u001b[49m\u001b[38;5;241;43m*\u001b[39;49m\u001b[43margs\u001b[49m\u001b[43m,\u001b[49m\u001b[43m \u001b[49m\u001b[38;5;241;43m*\u001b[39;49m\u001b[38;5;241;43m*\u001b[39;49m\u001b[43mkwargs\u001b[49m\u001b[43m)\u001b[49m\n",
      "File \u001b[1;32mc:\\Users\\paulc\\AppData\\Local\\Programs\\Python\\Python311\\Lib\\site-packages\\torch\\nn\\modules\\module.py:1747\u001b[0m, in \u001b[0;36mModule._call_impl\u001b[1;34m(self, *args, **kwargs)\u001b[0m\n\u001b[0;32m   1742\u001b[0m \u001b[38;5;66;03m# If we don't have any hooks, we want to skip the rest of the logic in\u001b[39;00m\n\u001b[0;32m   1743\u001b[0m \u001b[38;5;66;03m# this function, and just call forward.\u001b[39;00m\n\u001b[0;32m   1744\u001b[0m \u001b[38;5;28;01mif\u001b[39;00m \u001b[38;5;129;01mnot\u001b[39;00m (\u001b[38;5;28mself\u001b[39m\u001b[38;5;241m.\u001b[39m_backward_hooks \u001b[38;5;129;01mor\u001b[39;00m \u001b[38;5;28mself\u001b[39m\u001b[38;5;241m.\u001b[39m_backward_pre_hooks \u001b[38;5;129;01mor\u001b[39;00m \u001b[38;5;28mself\u001b[39m\u001b[38;5;241m.\u001b[39m_forward_hooks \u001b[38;5;129;01mor\u001b[39;00m \u001b[38;5;28mself\u001b[39m\u001b[38;5;241m.\u001b[39m_forward_pre_hooks\n\u001b[0;32m   1745\u001b[0m         \u001b[38;5;129;01mor\u001b[39;00m _global_backward_pre_hooks \u001b[38;5;129;01mor\u001b[39;00m _global_backward_hooks\n\u001b[0;32m   1746\u001b[0m         \u001b[38;5;129;01mor\u001b[39;00m _global_forward_hooks \u001b[38;5;129;01mor\u001b[39;00m _global_forward_pre_hooks):\n\u001b[1;32m-> 1747\u001b[0m     \u001b[38;5;28;01mreturn\u001b[39;00m \u001b[43mforward_call\u001b[49m\u001b[43m(\u001b[49m\u001b[38;5;241;43m*\u001b[39;49m\u001b[43margs\u001b[49m\u001b[43m,\u001b[49m\u001b[43m \u001b[49m\u001b[38;5;241;43m*\u001b[39;49m\u001b[38;5;241;43m*\u001b[39;49m\u001b[43mkwargs\u001b[49m\u001b[43m)\u001b[49m\n\u001b[0;32m   1749\u001b[0m result \u001b[38;5;241m=\u001b[39m \u001b[38;5;28;01mNone\u001b[39;00m\n\u001b[0;32m   1750\u001b[0m called_always_called_hooks \u001b[38;5;241m=\u001b[39m \u001b[38;5;28mset\u001b[39m()\n",
      "File \u001b[1;32mc:\\Users\\paulc\\Documents\\Esiee_Paris\\E5\\p2\\data_engineering\\Paul\\final project\\previous_labs.py:135\u001b[0m, in \u001b[0;36mLayerNorm.forward\u001b[1;34m(self, x)\u001b[0m\n\u001b[0;32m    133\u001b[0m mean \u001b[38;5;241m=\u001b[39m x\u001b[38;5;241m.\u001b[39mmean(dim\u001b[38;5;241m=\u001b[39m\u001b[38;5;241m-\u001b[39m\u001b[38;5;241m1\u001b[39m, keepdim\u001b[38;5;241m=\u001b[39m\u001b[38;5;28;01mTrue\u001b[39;00m)\n\u001b[0;32m    134\u001b[0m var \u001b[38;5;241m=\u001b[39m x\u001b[38;5;241m.\u001b[39mvar(dim\u001b[38;5;241m=\u001b[39m\u001b[38;5;241m-\u001b[39m\u001b[38;5;241m1\u001b[39m, keepdim\u001b[38;5;241m=\u001b[39m\u001b[38;5;28;01mTrue\u001b[39;00m, unbiased\u001b[38;5;241m=\u001b[39m\u001b[38;5;28;01mFalse\u001b[39;00m)\n\u001b[1;32m--> 135\u001b[0m norm_x \u001b[38;5;241m=\u001b[39m (x \u001b[38;5;241m-\u001b[39m mean) \u001b[38;5;241m/\u001b[39m \u001b[43mtorch\u001b[49m\u001b[38;5;241;43m.\u001b[39;49m\u001b[43msqrt\u001b[49m\u001b[43m(\u001b[49m\u001b[43mvar\u001b[49m\u001b[43m \u001b[49m\u001b[38;5;241;43m+\u001b[39;49m\u001b[43m \u001b[49m\u001b[38;5;28;43mself\u001b[39;49m\u001b[38;5;241;43m.\u001b[39;49m\u001b[43meps\u001b[49m\u001b[43m)\u001b[49m\n\u001b[0;32m    136\u001b[0m \u001b[38;5;28;01mreturn\u001b[39;00m \u001b[38;5;28mself\u001b[39m\u001b[38;5;241m.\u001b[39mscale \u001b[38;5;241m*\u001b[39m norm_x \u001b[38;5;241m+\u001b[39m \u001b[38;5;28mself\u001b[39m\u001b[38;5;241m.\u001b[39mshift\n",
      "\u001b[1;31mKeyboardInterrupt\u001b[0m: "
     ]
    }
   ],
   "source": [
    "from tqdm import tqdm\n",
    "\n",
    "for i, entry in tqdm(enumerate(test_data), total=len(test_data)):\n",
    "\n",
    "    input_text = format_input(entry)\n",
    "\n",
    "    token_ids = generate(\n",
    "        model=model,\n",
    "        idx=text_to_token_ids(input_text, tokenizer).to(device),\n",
    "        max_new_tokens=256,\n",
    "        context_size=BASE_CONFIG[\"context_length\"],\n",
    "        eos_id=50256\n",
    "    )\n",
    "    generated_text = token_ids_to_text(token_ids, tokenizer)\n",
    "    response_text = generated_text[len(input_text):].replace(\"### Response:\", \"\").strip()\n",
    "\n",
    "    test_data[i][\"model_response\"] = response_text\n",
    "\n",
    "\n",
    "with open(\"instruction-data-with-response.json\", \"w\") as file:\n",
    "    json.dump(test_data, file, indent=4)  # \"indent\" for pretty-printing"
   ]
  }
 ],
 "metadata": {
  "kaggle": {
   "accelerator": "none",
   "dataSources": [
    {
     "datasetId": 6143322,
     "sourceId": 9983211,
     "sourceType": "datasetVersion"
    }
   ],
   "dockerImageVersionId": 30886,
   "isGpuEnabled": false,
   "isInternetEnabled": true,
   "language": "python",
   "sourceType": "notebook"
  },
  "kernelspec": {
   "display_name": "Python 3",
   "language": "python",
   "name": "python3"
  },
  "language_info": {
   "codemirror_mode": {
    "name": "ipython",
    "version": 3
   },
   "file_extension": ".py",
   "mimetype": "text/x-python",
   "name": "python",
   "nbconvert_exporter": "python",
   "pygments_lexer": "ipython3",
   "version": "3.11.5"
  }
 },
 "nbformat": 4,
 "nbformat_minor": 4
}
